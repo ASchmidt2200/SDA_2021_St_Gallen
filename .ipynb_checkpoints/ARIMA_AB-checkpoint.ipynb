{
 "cells": [
  {
   "cell_type": "code",
   "execution_count": 1,
   "metadata": {},
   "outputs": [],
   "source": [
    "import os\n",
    "#Change working directory\n",
    "os.chdir('/Users/aleksandrabahareva/Downloads')"
   ]
  },
  {
   "cell_type": "code",
   "execution_count": 2,
   "metadata": {},
   "outputs": [],
   "source": [
    "from pmdarima import auto_arima"
   ]
  },
  {
   "cell_type": "code",
   "execution_count": 3,
   "metadata": {},
   "outputs": [],
   "source": [
    "import warnings\n",
    "warnings.filterwarnings(\"ignore\")"
   ]
  },
  {
   "cell_type": "code",
   "execution_count": 4,
   "metadata": {},
   "outputs": [],
   "source": [
    "# Importing required libraries\n",
    "import numpy as np\n",
    "import pandas as pd"
   ]
  },
  {
   "cell_type": "code",
   "execution_count": 5,
   "metadata": {},
   "outputs": [],
   "source": [
    "df = pd.read_csv('Bitcoin Energy Consumption.csv',\n",
    "                       index_col ='Date',\n",
    "                       parse_dates = True)"
   ]
  },
  {
   "cell_type": "code",
   "execution_count": 6,
   "metadata": {},
   "outputs": [
    {
     "data": {
      "text/html": [
       "<div>\n",
       "<style scoped>\n",
       "    .dataframe tbody tr th:only-of-type {\n",
       "        vertical-align: middle;\n",
       "    }\n",
       "\n",
       "    .dataframe tbody tr th {\n",
       "        vertical-align: top;\n",
       "    }\n",
       "\n",
       "    .dataframe thead th {\n",
       "        text-align: right;\n",
       "    }\n",
       "</style>\n",
       "<table border=\"1\" class=\"dataframe\">\n",
       "  <thead>\n",
       "    <tr style=\"text-align: right;\">\n",
       "      <th></th>\n",
       "      <th>Estimated TWh per Year</th>\n",
       "      <th>Minimum TWh per Year</th>\n",
       "    </tr>\n",
       "    <tr>\n",
       "      <th>Date</th>\n",
       "      <th></th>\n",
       "      <th></th>\n",
       "    </tr>\n",
       "  </thead>\n",
       "  <tbody>\n",
       "    <tr>\n",
       "      <th>2017-02-10</th>\n",
       "      <td>9.585659</td>\n",
       "      <td>3.331026</td>\n",
       "    </tr>\n",
       "    <tr>\n",
       "      <th>2017-02-11</th>\n",
       "      <td>9.547335</td>\n",
       "      <td>3.316227</td>\n",
       "    </tr>\n",
       "    <tr>\n",
       "      <th>2017-02-12</th>\n",
       "      <td>9.578774</td>\n",
       "      <td>3.198969</td>\n",
       "    </tr>\n",
       "    <tr>\n",
       "      <th>2017-02-13</th>\n",
       "      <td>9.476506</td>\n",
       "      <td>3.045178</td>\n",
       "    </tr>\n",
       "    <tr>\n",
       "      <th>2017-02-14</th>\n",
       "      <td>9.544807</td>\n",
       "      <td>3.150062</td>\n",
       "    </tr>\n",
       "  </tbody>\n",
       "</table>\n",
       "</div>"
      ],
      "text/plain": [
       "            Estimated TWh per Year  Minimum TWh per Year\n",
       "Date                                                    \n",
       "2017-02-10                9.585659              3.331026\n",
       "2017-02-11                9.547335              3.316227\n",
       "2017-02-12                9.578774              3.198969\n",
       "2017-02-13                9.476506              3.045178\n",
       "2017-02-14                9.544807              3.150062"
      ]
     },
     "execution_count": 6,
     "metadata": {},
     "output_type": "execute_result"
    }
   ],
   "source": [
    "df.head()"
   ]
  },
  {
   "cell_type": "code",
   "execution_count": 7,
   "metadata": {},
   "outputs": [
    {
     "data": {
      "text/plain": [
       "<AxesSubplot:xlabel='Date'>"
      ]
     },
     "execution_count": 7,
     "metadata": {},
     "output_type": "execute_result"
    },
    {
     "data": {
      "image/png": "[encoded data removed]",
      "text/plain": [
       "<Figure size 864x360 with 1 Axes>"
      ]
     },
     "metadata": {
      "needs_background": "light"
     },
     "output_type": "display_data"
    }
   ],
   "source": [
    "df['Estimated TWh per Year'].plot(figsize=(12,5))"
   ]
  },
  {
   "cell_type": "code",
   "execution_count": 8,
   "metadata": {},
   "outputs": [
    {
     "name": "stdout",
     "output_type": "stream",
     "text": [
      "Performing stepwise search to minimize aic\n",
      " ARIMA(2,2,2)(0,0,0)[0]             : AIC=2090.456, Time=0.68 sec\n",
      " ARIMA(0,2,0)(0,0,0)[0]             : AIC=2686.325, Time=0.07 sec\n",
      " ARIMA(1,2,0)(0,0,0)[0]             : AIC=2595.216, Time=0.08 sec\n",
      " ARIMA(0,2,1)(0,0,0)[0]             : AIC=2370.312, Time=0.16 sec\n",
      " ARIMA(1,2,2)(0,0,0)[0]             : AIC=2112.704, Time=0.39 sec\n",
      " ARIMA(2,2,1)(0,0,0)[0]             : AIC=2127.860, Time=0.39 sec\n",
      " ARIMA(3,2,2)(0,0,0)[0]             : AIC=2092.079, Time=1.67 sec\n",
      " ARIMA(2,2,3)(0,0,0)[0]             : AIC=2091.431, Time=2.95 sec\n",
      " ARIMA(1,2,1)(0,0,0)[0]             : AIC=2139.830, Time=0.60 sec\n",
      " ARIMA(1,2,3)(0,0,0)[0]             : AIC=2101.872, Time=1.61 sec\n",
      " ARIMA(3,2,1)(0,0,0)[0]             : AIC=2106.658, Time=0.74 sec\n",
      " ARIMA(3,2,3)(0,0,0)[0]             : AIC=2093.693, Time=1.66 sec\n",
      " ARIMA(2,2,2)(0,0,0)[0] intercept   : AIC=2092.111, Time=2.08 sec\n",
      "\n",
      "Best model:  ARIMA(2,2,2)(0,0,0)[0]          \n",
      "Total fit time: 13.107 seconds\n"
     ]
    },
    {
     "data": {
      "text/html": [
       "<table class=\"simpletable\">\n",
       "<caption>SARIMAX Results</caption>\n",
       "<tr>\n",
       "  <th>Dep. Variable:</th>           <td>y</td>        <th>  No. Observations:  </th>   <td>1736</td>   \n",
       "</tr>\n",
       "<tr>\n",
       "  <th>Model:</th>           <td>SARIMAX(2, 2, 2)</td> <th>  Log Likelihood     </th> <td>-1040.228</td>\n",
       "</tr>\n",
       "<tr>\n",
       "  <th>Date:</th>            <td>Sat, 27 Nov 2021</td> <th>  AIC                </th> <td>2090.456</td> \n",
       "</tr>\n",
       "<tr>\n",
       "  <th>Time:</th>                <td>13:22:09</td>     <th>  BIC                </th> <td>2117.747</td> \n",
       "</tr>\n",
       "<tr>\n",
       "  <th>Sample:</th>                  <td>0</td>        <th>  HQIC               </th> <td>2100.549</td> \n",
       "</tr>\n",
       "<tr>\n",
       "  <th></th>                      <td> - 1736</td>     <th>                     </th>     <td> </td>    \n",
       "</tr>\n",
       "<tr>\n",
       "  <th>Covariance Type:</th>        <td>opg</td>       <th>                     </th>     <td> </td>    \n",
       "</tr>\n",
       "</table>\n",
       "<table class=\"simpletable\">\n",
       "<tr>\n",
       "     <td></td>       <th>coef</th>     <th>std err</th>      <th>z</th>      <th>P>|z|</th>  <th>[0.025</th>    <th>0.975]</th>  \n",
       "</tr>\n",
       "<tr>\n",
       "  <th>ar.L1</th>  <td>   -0.3575</td> <td>    0.023</td> <td>  -15.690</td> <td> 0.000</td> <td>   -0.402</td> <td>   -0.313</td>\n",
       "</tr>\n",
       "<tr>\n",
       "  <th>ar.L2</th>  <td>    0.2377</td> <td>    0.015</td> <td>   16.064</td> <td> 0.000</td> <td>    0.209</td> <td>    0.267</td>\n",
       "</tr>\n",
       "<tr>\n",
       "  <th>ma.L1</th>  <td>   -0.1329</td> <td>    0.022</td> <td>   -6.071</td> <td> 0.000</td> <td>   -0.176</td> <td>   -0.090</td>\n",
       "</tr>\n",
       "<tr>\n",
       "  <th>ma.L2</th>  <td>   -0.8139</td> <td>    0.023</td> <td>  -35.111</td> <td> 0.000</td> <td>   -0.859</td> <td>   -0.768</td>\n",
       "</tr>\n",
       "<tr>\n",
       "  <th>sigma2</th> <td>    0.1941</td> <td>    0.001</td> <td>  232.103</td> <td> 0.000</td> <td>    0.192</td> <td>    0.196</td>\n",
       "</tr>\n",
       "</table>\n",
       "<table class=\"simpletable\">\n",
       "<tr>\n",
       "  <th>Ljung-Box (L1) (Q):</th>     <td>0.02</td>  <th>  Jarque-Bera (JB):  </th> <td>2399210.43</td>\n",
       "</tr>\n",
       "<tr>\n",
       "  <th>Prob(Q):</th>                <td>0.90</td>  <th>  Prob(JB):          </th>    <td>0.00</td>   \n",
       "</tr>\n",
       "<tr>\n",
       "  <th>Heteroskedasticity (H):</th> <td>24.34</td> <th>  Skew:              </th>    <td>-8.53</td>  \n",
       "</tr>\n",
       "<tr>\n",
       "  <th>Prob(H) (two-sided):</th>    <td>0.00</td>  <th>  Kurtosis:          </th>   <td>184.43</td>  \n",
       "</tr>\n",
       "</table><br/><br/>Warnings:<br/>[1] Covariance matrix calculated using the outer product of gradients (complex-step)."
      ],
      "text/plain": [
       "<class 'statsmodels.iolib.summary.Summary'>\n",
       "\"\"\"\n",
       "                               SARIMAX Results                                \n",
       "==============================================================================\n",
       "Dep. Variable:                      y   No. Observations:                 1736\n",
       "Model:               SARIMAX(2, 2, 2)   Log Likelihood               -1040.228\n",
       "Date:                Sat, 27 Nov 2021   AIC                           2090.456\n",
       "Time:                        13:22:09   BIC                           2117.747\n",
       "Sample:                             0   HQIC                          2100.549\n",
       "                               - 1736                                         \n",
       "Covariance Type:                  opg                                         \n",
       "==============================================================================\n",
       "                 coef    std err          z      P>|z|      [0.025      0.975]\n",
       "------------------------------------------------------------------------------\n",
       "ar.L1         -0.3575      0.023    -15.690      0.000      -0.402      -0.313\n",
       "ar.L2          0.2377      0.015     16.064      0.000       0.209       0.267\n",
       "ma.L1         -0.1329      0.022     -6.071      0.000      -0.176      -0.090\n",
       "ma.L2         -0.8139      0.023    -35.111      0.000      -0.859      -0.768\n",
       "sigma2         0.1941      0.001    232.103      0.000       0.192       0.196\n",
       "===================================================================================\n",
       "Ljung-Box (L1) (Q):                   0.02   Jarque-Bera (JB):           2399210.43\n",
       "Prob(Q):                              0.90   Prob(JB):                         0.00\n",
       "Heteroskedasticity (H):              24.34   Skew:                            -8.53\n",
       "Prob(H) (two-sided):                  0.00   Kurtosis:                       184.43\n",
       "===================================================================================\n",
       "\n",
       "Warnings:\n",
       "[1] Covariance matrix calculated using the outer product of gradients (complex-step).\n",
       "\"\"\""
      ]
     },
     "execution_count": 8,
     "metadata": {},
     "output_type": "execute_result"
    }
   ],
   "source": [
    "stepwise_fit = auto_arima(df['Estimated TWh per Year'], trace = True,\n",
    "                          suppress_warnings = True)        \n",
    "stepwise_fit.summary()"
   ]
  },
  {
   "cell_type": "code",
   "execution_count": 9,
   "metadata": {},
   "outputs": [],
   "source": [
    "from statsmodels.tsa.arima_model import ARIMA"
   ]
  },
  {
   "cell_type": "code",
   "execution_count": 10,
   "metadata": {},
   "outputs": [
    {
     "name": "stdout",
     "output_type": "stream",
     "text": [
      "(1736, 2)\n",
      "(1706, 2) (30, 2)\n"
     ]
    }
   ],
   "source": [
    "print(df.shape)\n",
    "train=df.iloc[:-30]\n",
    "test=df.iloc[-30:]\n",
    "print(train.shape,test.shape)"
   ]
  },
  {
   "cell_type": "code",
   "execution_count": 11,
   "metadata": {},
   "outputs": [
    {
     "data": {
      "text/html": [
       "<table class=\"simpletable\">\n",
       "<caption>ARIMA Model Results</caption>\n",
       "<tr>\n",
       "  <th>Dep. Variable:</th> <td>D2.Estimated TWh per Year</td> <th>  No. Observations:  </th>   <td>1704</td>   \n",
       "</tr>\n",
       "<tr>\n",
       "  <th>Model:</th>              <td>ARIMA(2, 2, 2)</td>       <th>  Log Likelihood     </th> <td>-1035.364</td>\n",
       "</tr>\n",
       "<tr>\n",
       "  <th>Method:</th>                 <td>css-mle</td>          <th>  S.D. of innovations</th>   <td>0.444</td>  \n",
       "</tr>\n",
       "<tr>\n",
       "  <th>Date:</th>              <td>Sat, 27 Nov 2021</td>      <th>  AIC                </th> <td>2082.727</td> \n",
       "</tr>\n",
       "<tr>\n",
       "  <th>Time:</th>                  <td>13:22:58</td>          <th>  BIC                </th> <td>2115.372</td> \n",
       "</tr>\n",
       "<tr>\n",
       "  <th>Sample:</th>                    <td>2</td>             <th>  HQIC               </th> <td>2094.811</td> \n",
       "</tr>\n",
       "<tr>\n",
       "  <th></th>                           <td> </td>             <th>                     </th>     <td> </td>    \n",
       "</tr>\n",
       "</table>\n",
       "<table class=\"simpletable\">\n",
       "<tr>\n",
       "                 <td></td>                    <th>coef</th>     <th>std err</th>      <th>z</th>      <th>P>|z|</th>  <th>[0.025</th>    <th>0.975]</th>  \n",
       "</tr>\n",
       "<tr>\n",
       "  <th>const</th>                           <td>    0.0002</td> <td>    0.000</td> <td>    0.483</td> <td> 0.629</td> <td>   -0.001</td> <td>    0.001</td>\n",
       "</tr>\n",
       "<tr>\n",
       "  <th>ar.L1.D2.Estimated TWh per Year</th> <td>   -0.3556</td> <td>    0.058</td> <td>   -6.102</td> <td> 0.000</td> <td>   -0.470</td> <td>   -0.241</td>\n",
       "</tr>\n",
       "<tr>\n",
       "  <th>ar.L2.D2.Estimated TWh per Year</th> <td>    0.2384</td> <td>    0.042</td> <td>    5.620</td> <td> 0.000</td> <td>    0.155</td> <td>    0.322</td>\n",
       "</tr>\n",
       "<tr>\n",
       "  <th>ma.L1.D2.Estimated TWh per Year</th> <td>   -0.1347</td> <td>    0.050</td> <td>   -2.717</td> <td> 0.007</td> <td>   -0.232</td> <td>   -0.038</td>\n",
       "</tr>\n",
       "<tr>\n",
       "  <th>ma.L2.D2.Estimated TWh per Year</th> <td>   -0.8145</td> <td>    0.050</td> <td>  -16.348</td> <td> 0.000</td> <td>   -0.912</td> <td>   -0.717</td>\n",
       "</tr>\n",
       "</table>\n",
       "<table class=\"simpletable\">\n",
       "<caption>Roots</caption>\n",
       "<tr>\n",
       "    <td></td>   <th>            Real</th>  <th>         Imaginary</th> <th>         Modulus</th>  <th>        Frequency</th>\n",
       "</tr>\n",
       "<tr>\n",
       "  <th>AR.1</th> <td>          -1.4339</td> <td>          +0.0000j</td> <td>           1.4339</td> <td>           0.5000</td>\n",
       "</tr>\n",
       "<tr>\n",
       "  <th>AR.2</th> <td>           2.9254</td> <td>          +0.0000j</td> <td>           2.9254</td> <td>           0.0000</td>\n",
       "</tr>\n",
       "<tr>\n",
       "  <th>MA.1</th> <td>           1.0284</td> <td>          +0.0000j</td> <td>           1.0284</td> <td>           0.0000</td>\n",
       "</tr>\n",
       "<tr>\n",
       "  <th>MA.2</th> <td>          -1.1939</td> <td>          +0.0000j</td> <td>           1.1939</td> <td>           0.5000</td>\n",
       "</tr>\n",
       "</table>"
      ],
      "text/plain": [
       "<class 'statsmodels.iolib.summary.Summary'>\n",
       "\"\"\"\n",
       "                                 ARIMA Model Results                                 \n",
       "=====================================================================================\n",
       "Dep. Variable:     D2.Estimated TWh per Year   No. Observations:                 1704\n",
       "Model:                        ARIMA(2, 2, 2)   Log Likelihood               -1035.364\n",
       "Method:                              css-mle   S.D. of innovations              0.444\n",
       "Date:                       Sat, 27 Nov 2021   AIC                           2082.727\n",
       "Time:                               13:22:58   BIC                           2115.372\n",
       "Sample:                                    2   HQIC                          2094.811\n",
       "                                                                                     \n",
       "===================================================================================================\n",
       "                                      coef    std err          z      P>|z|      [0.025      0.975]\n",
       "---------------------------------------------------------------------------------------------------\n",
       "const                               0.0002      0.000      0.483      0.629      -0.001       0.001\n",
       "ar.L1.D2.Estimated TWh per Year    -0.3556      0.058     -6.102      0.000      -0.470      -0.241\n",
       "ar.L2.D2.Estimated TWh per Year     0.2384      0.042      5.620      0.000       0.155       0.322\n",
       "ma.L1.D2.Estimated TWh per Year    -0.1347      0.050     -2.717      0.007      -0.232      -0.038\n",
       "ma.L2.D2.Estimated TWh per Year    -0.8145      0.050    -16.348      0.000      -0.912      -0.717\n",
       "                                    Roots                                    \n",
       "=============================================================================\n",
       "                  Real          Imaginary           Modulus         Frequency\n",
       "-----------------------------------------------------------------------------\n",
       "AR.1           -1.4339           +0.0000j            1.4339            0.5000\n",
       "AR.2            2.9254           +0.0000j            2.9254            0.0000\n",
       "MA.1            1.0284           +0.0000j            1.0284            0.0000\n",
       "MA.2           -1.1939           +0.0000j            1.1939            0.5000\n",
       "-----------------------------------------------------------------------------\n",
       "\"\"\""
      ]
     },
     "execution_count": 11,
     "metadata": {},
     "output_type": "execute_result"
    }
   ],
   "source": [
    "model=ARIMA(train['Estimated TWh per Year'],order=(2,2,2))\n",
    "model=model.fit()\n",
    "model.summary()"
   ]
  },
  {
   "cell_type": "code",
   "execution_count": 12,
   "metadata": {},
   "outputs": [
    {
     "name": "stdout",
     "output_type": "stream",
     "text": [
      "Date\n",
      "2021-10-12    173.205752\n",
      "2021-10-13    173.632813\n",
      "2021-10-14    174.067224\n",
      "2021-10-15    174.492041\n",
      "2021-10-16    174.922291\n",
      "2021-10-17    175.348591\n",
      "2021-10-18    175.777860\n",
      "2021-10-19    176.205402\n",
      "2021-10-20    176.634535\n",
      "2021-10-21    177.062959\n",
      "2021-10-22    177.492285\n",
      "2021-10-23    177.921390\n",
      "2021-10-24    178.351058\n",
      "2021-10-25    178.780743\n",
      "2021-10-26    179.210825\n",
      "2021-10-27    179.641040\n",
      "2021-10-28    180.071571\n",
      "2021-10-29    180.502291\n",
      "2021-10-30    180.933289\n",
      "2021-10-31    181.364502\n",
      "2021-11-01    181.795974\n",
      "2021-11-02    182.227675\n",
      "2021-11-03    182.659626\n",
      "2021-11-04    183.091812\n",
      "2021-11-05    183.524243\n",
      "2021-11-06    183.956913\n",
      "2021-11-07    184.389826\n",
      "2021-11-08    184.822978\n",
      "2021-11-09    185.256372\n",
      "2021-11-10    185.690007\n",
      "dtype: float64\n"
     ]
    }
   ],
   "source": [
    "start=len(train)\n",
    "end=len(train)+len(test)-1\n",
    "pred=model.predict(start=start,end=end,typ='levels')\n",
    "#print(pred)\n",
    "pred.index=df.index[start:end+1]\n",
    "print(pred)"
   ]
  },
  {
   "cell_type": "code",
   "execution_count": 13,
   "metadata": {},
   "outputs": [
    {
     "data": {
      "text/plain": [
       "<AxesSubplot:xlabel='Date'>"
      ]
     },
     "execution_count": 13,
     "metadata": {},
     "output_type": "execute_result"
    },
    {
     "data": {
      "image/png": "[encoded data removed]",
      "text/plain": [
       "<Figure size 432x288 with 1 Axes>"
      ]
     },
     "metadata": {
      "needs_background": "light"
     },
     "output_type": "display_data"
    }
   ],
   "source": [
    "pred.plot(legend=True)\n",
    "test['Estimated TWh per Year'].plot(legend=True)"
   ]
  },
  {
   "cell_type": "code",
   "execution_count": 14,
   "metadata": {},
   "outputs": [
    {
     "data": {
      "text/plain": [
       "181.8561940066667"
      ]
     },
     "execution_count": 14,
     "metadata": {},
     "output_type": "execute_result"
    }
   ],
   "source": [
    "test['Estimated TWh per Year'].mean()"
   ]
  },
  {
   "cell_type": "code",
   "execution_count": 15,
   "metadata": {},
   "outputs": [
    {
     "name": "stdout",
     "output_type": "stream",
     "text": [
      "2.746910428923064\n"
     ]
    }
   ],
   "source": [
    "from sklearn.metrics import mean_squared_error\n",
    "from math import sqrt\n",
    "rmse=sqrt(mean_squared_error(pred,test['Estimated TWh per Year']))\n",
    "print(rmse)"
   ]
  },
  {
   "cell_type": "code",
   "execution_count": 16,
   "metadata": {},
   "outputs": [
    {
     "data": {
      "text/html": [
       "<div>\n",
       "<style scoped>\n",
       "    .dataframe tbody tr th:only-of-type {\n",
       "        vertical-align: middle;\n",
       "    }\n",
       "\n",
       "    .dataframe tbody tr th {\n",
       "        vertical-align: top;\n",
       "    }\n",
       "\n",
       "    .dataframe thead th {\n",
       "        text-align: right;\n",
       "    }\n",
       "</style>\n",
       "<table border=\"1\" class=\"dataframe\">\n",
       "  <thead>\n",
       "    <tr style=\"text-align: right;\">\n",
       "      <th></th>\n",
       "      <th>Estimated TWh per Year</th>\n",
       "      <th>Minimum TWh per Year</th>\n",
       "    </tr>\n",
       "    <tr>\n",
       "      <th>Date</th>\n",
       "      <th></th>\n",
       "      <th></th>\n",
       "    </tr>\n",
       "  </thead>\n",
       "  <tbody>\n",
       "    <tr>\n",
       "      <th>2021-11-06</th>\n",
       "      <td>187.773455</td>\n",
       "      <td>48.518606</td>\n",
       "    </tr>\n",
       "    <tr>\n",
       "      <th>2021-11-07</th>\n",
       "      <td>188.325383</td>\n",
       "      <td>48.806185</td>\n",
       "    </tr>\n",
       "    <tr>\n",
       "      <th>2021-11-08</th>\n",
       "      <td>188.926128</td>\n",
       "      <td>48.935738</td>\n",
       "    </tr>\n",
       "    <tr>\n",
       "      <th>2021-11-09</th>\n",
       "      <td>189.876489</td>\n",
       "      <td>49.336480</td>\n",
       "    </tr>\n",
       "    <tr>\n",
       "      <th>2021-11-10</th>\n",
       "      <td>190.490489</td>\n",
       "      <td>49.350032</td>\n",
       "    </tr>\n",
       "  </tbody>\n",
       "</table>\n",
       "</div>"
      ],
      "text/plain": [
       "            Estimated TWh per Year  Minimum TWh per Year\n",
       "Date                                                    \n",
       "2021-11-06              187.773455             48.518606\n",
       "2021-11-07              188.325383             48.806185\n",
       "2021-11-08              188.926128             48.935738\n",
       "2021-11-09              189.876489             49.336480\n",
       "2021-11-10              190.490489             49.350032"
      ]
     },
     "execution_count": 16,
     "metadata": {},
     "output_type": "execute_result"
    }
   ],
   "source": [
    "model2=ARIMA(df['Estimated TWh per Year'],order=(2,2,2))\n",
    "model2=model2.fit()\n",
    "df.tail()"
   ]
  },
  {
   "cell_type": "code",
   "execution_count": 17,
   "metadata": {},
   "outputs": [
    {
     "name": "stdout",
     "output_type": "stream",
     "text": [
      "2021-11-10    191.011044\n",
      "2021-11-11    191.564837\n",
      "2021-11-12    192.084800\n",
      "2021-11-13    192.625110\n",
      "2021-11-14    193.150415\n",
      "2021-11-15    193.686267\n",
      "2021-11-16    194.215104\n",
      "2021-11-17    194.749297\n",
      "2021-11-18    195.280237\n",
      "2021-11-19    195.813949\n",
      "2021-11-20    196.346227\n",
      "2021-11-21    196.880012\n",
      "2021-11-22    197.413251\n",
      "2021-11-23    197.947376\n",
      "2021-11-24    198.481388\n",
      "2021-11-25    199.015985\n",
      "2021-11-26    199.550678\n",
      "2021-11-27    200.085810\n",
      "2021-11-28    200.621141\n",
      "2021-11-29    201.156839\n",
      "2021-11-30    201.692786\n",
      "2021-12-01    202.229065\n",
      "2021-12-02    202.765618\n",
      "2021-12-03    203.302485\n",
      "2021-12-04    203.839638\n",
      "2021-12-05    204.377097\n",
      "2021-12-06    204.914848\n",
      "2021-12-07    205.452901\n",
      "2021-12-08    205.991248\n",
      "2021-12-09    206.529896\n",
      "2021-12-10    207.068839\n",
      "Freq: D, Name: ARIMA Predictions, dtype: float64\n"
     ]
    }
   ],
   "source": [
    "index_future_dates=pd.date_range(start='2021-11-10',end='2021-12-10')\n",
    "#print(index_future_dates)\n",
    "pred=model2.predict(start=len(df),end=len(df)+30,typ='levels').rename('ARIMA Predictions')\n",
    "#print(comp_pred)\n",
    "pred.index=index_future_dates\n",
    "print(pred)"
   ]
  },
  {
   "cell_type": "code",
   "execution_count": 18,
   "metadata": {},
   "outputs": [
    {
     "data": {
      "text/plain": [
       "<AxesSubplot:>"
      ]
     },
     "execution_count": 18,
     "metadata": {},
     "output_type": "execute_result"
    },
    {
     "data": {
      "image/png": "[encoded data removed]",
      "text/plain": [
       "<Figure size 864x360 with 1 Axes>"
      ]
     },
     "metadata": {
      "needs_background": "light"
     },
     "output_type": "display_data"
    }
   ],
   "source": [
    "pred.plot(figsize=(12,5),legend=True)"
   ]
  },
  {
   "cell_type": "code",
   "execution_count": null,
   "metadata": {},
   "outputs": [],
   "source": []
  }
 ],
 "metadata": {
  "kernelspec": {
   "display_name": "Python 3",
   "language": "python",
   "name": "python3"
  },
  "language_info": {
   "codemirror_mode": {
    "name": "ipython",
    "version": 3
   },
   "file_extension": ".py",
   "mimetype": "text/x-python",
   "name": "python",
   "nbconvert_exporter": "python",
   "pygments_lexer": "ipython3",
   "version": "3.6.7"
  }
 },
 "nbformat": 4,
 "nbformat_minor": 5
}
