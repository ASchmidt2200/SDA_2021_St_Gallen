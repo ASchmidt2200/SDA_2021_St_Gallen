{
 "cells": [
  {
   "cell_type": "code",
   "execution_count": 1,
   "id": "90e15892-7231-4e6d-885c-3b5b9ad6b9bc",
   "metadata": {},
   "outputs": [],
   "source": [
    "from pmdarima import auto_arima\n",
    "import numpy as np\n",
    "import pandas as pd\n",
    "from statsmodels.tsa.arima_model import ARIMA\n",
    "from statsmodels.tsa.stattools import adfuller\n",
    "from sklearn.metrics import mean_squared_error\n",
    "from math import sqrt\n",
    "from arch import arch_model\n",
    "from matplotlib import pyplot\n",
    "from statsmodels.graphics.tsaplots import plot_acf"
   ]
  },
  {
   "cell_type": "code",
   "execution_count": 2,
   "id": "98388e35-28f2-444d-b005-99d567ee4e74",
   "metadata": {},
   "outputs": [],
   "source": [
    "import warnings\n",
    "warnings.filterwarnings(\"ignore\")"
   ]
  },
  {
   "cell_type": "code",
   "execution_count": 3,
   "id": "9a00f449-1bd4-488d-9263-30af2c88e60c",
   "metadata": {},
   "outputs": [
    {
     "data": {
      "text/html": [
       "<div>\n",
       "<style scoped>\n",
       "    .dataframe tbody tr th:only-of-type {\n",
       "        vertical-align: middle;\n",
       "    }\n",
       "\n",
       "    .dataframe tbody tr th {\n",
       "        vertical-align: top;\n",
       "    }\n",
       "\n",
       "    .dataframe thead th {\n",
       "        text-align: right;\n",
       "    }\n",
       "</style>\n",
       "<table border=\"1\" class=\"dataframe\">\n",
       "  <thead>\n",
       "    <tr style=\"text-align: right;\">\n",
       "      <th></th>\n",
       "      <th>Timestamp</th>\n",
       "      <th>MAX GW</th>\n",
       "      <th>MIN GW</th>\n",
       "      <th>GUESS GW</th>\n",
       "      <th>annualised consumption MAX TWh</th>\n",
       "      <th>annualised consumption MIN TWh</th>\n",
       "      <th>annualised consumption GUESS TWh</th>\n",
       "    </tr>\n",
       "    <tr>\n",
       "      <th>Date</th>\n",
       "      <th></th>\n",
       "      <th></th>\n",
       "      <th></th>\n",
       "      <th></th>\n",
       "      <th></th>\n",
       "      <th></th>\n",
       "      <th></th>\n",
       "    </tr>\n",
       "  </thead>\n",
       "  <tbody>\n",
       "    <tr>\n",
       "      <th>2017-01-02</th>\n",
       "      <td>1483315200</td>\n",
       "      <td>1.498434</td>\n",
       "      <td>1.261182</td>\n",
       "      <td>1.373565</td>\n",
       "      <td>13.135274</td>\n",
       "      <td>11.055522</td>\n",
       "      <td>12.040667</td>\n",
       "    </tr>\n",
       "    <tr>\n",
       "      <th>2017-01-03</th>\n",
       "      <td>1483401600</td>\n",
       "      <td>1.514614</td>\n",
       "      <td>1.274800</td>\n",
       "      <td>1.388396</td>\n",
       "      <td>13.277109</td>\n",
       "      <td>11.174900</td>\n",
       "      <td>12.170683</td>\n",
       "    </tr>\n",
       "    <tr>\n",
       "      <th>2017-01-04</th>\n",
       "      <td>1483488000</td>\n",
       "      <td>1.503239</td>\n",
       "      <td>1.265226</td>\n",
       "      <td>1.377969</td>\n",
       "      <td>13.177394</td>\n",
       "      <td>11.090973</td>\n",
       "      <td>12.079277</td>\n",
       "    </tr>\n",
       "    <tr>\n",
       "      <th>2017-01-05</th>\n",
       "      <td>1483574400</td>\n",
       "      <td>1.489409</td>\n",
       "      <td>1.253586</td>\n",
       "      <td>1.365292</td>\n",
       "      <td>13.056162</td>\n",
       "      <td>10.988936</td>\n",
       "      <td>11.968148</td>\n",
       "    </tr>\n",
       "    <tr>\n",
       "      <th>2017-01-06</th>\n",
       "      <td>1483660800</td>\n",
       "      <td>1.494941</td>\n",
       "      <td>1.258242</td>\n",
       "      <td>1.370363</td>\n",
       "      <td>13.104653</td>\n",
       "      <td>11.029749</td>\n",
       "      <td>12.012598</td>\n",
       "    </tr>\n",
       "  </tbody>\n",
       "</table>\n",
       "</div>"
      ],
      "text/plain": [
       "             Timestamp    MAX GW    MIN GW  GUESS GW  \\\n",
       "Date                                                   \n",
       "2017-01-02  1483315200  1.498434  1.261182  1.373565   \n",
       "2017-01-03  1483401600  1.514614  1.274800  1.388396   \n",
       "2017-01-04  1483488000  1.503239  1.265226  1.377969   \n",
       "2017-01-05  1483574400  1.489409  1.253586  1.365292   \n",
       "2017-01-06  1483660800  1.494941  1.258242  1.370363   \n",
       "\n",
       "             annualised consumption MAX TWh  annualised consumption MIN TWh  \\\n",
       "Date                                                                          \n",
       "2017-01-02                        13.135274                       11.055522   \n",
       "2017-01-03                        13.277109                       11.174900   \n",
       "2017-01-04                        13.177394                       11.090973   \n",
       "2017-01-05                        13.056162                       10.988936   \n",
       "2017-01-06                        13.104653                       11.029749   \n",
       "\n",
       "            annualised consumption GUESS TWh  \n",
       "Date                                          \n",
       "2017-01-02                         12.040667  \n",
       "2017-01-03                         12.170683  \n",
       "2017-01-04                         12.079277  \n",
       "2017-01-05                         11.968148  \n",
       "2017-01-06                         12.012598  "
      ]
     },
     "execution_count": 3,
     "metadata": {},
     "output_type": "execute_result"
    }
   ],
   "source": [
    "df = pd.read_csv('data/BitcoinEnergyCambridge.csv')\n",
    "df[\"Date\"] = pd.to_datetime(df[\"Date\"])\n",
    "df = df[df[\"Date\"] > \"2017-01-01\"]\n",
    "df = df.set_index(\"Date\")\n",
    "df.head()"
   ]
  },
  {
   "cell_type": "code",
   "execution_count": 55,
   "id": "c2c3732a-a124-4df2-8a89-71c770c9f172",
   "metadata": {},
   "outputs": [
    {
     "data": {
      "text/plain": [
       "<AxesSubplot:xlabel='Date'>"
      ]
     },
     "execution_count": 55,
     "metadata": {},
     "output_type": "execute_result"
    },
    {
     "data": {
      "image/png": "[encoded data removed]",
      "text/plain": [
       "<Figure size 864x360 with 1 Axes>"
      ]
     },
     "metadata": {
      "needs_background": "light"
     },
     "output_type": "display_data"
    }
   ],
   "source": [
    "df['GUESS GW'].plot(figsize=(12,5))"
   ]
  },
  {
   "cell_type": "code",
   "execution_count": 72,
   "id": "a1222165",
   "metadata": {},
   "outputs": [
    {
     "data": {
      "text/plain": [
       "<AxesSubplot:xlabel='Date'>"
      ]
     },
     "execution_count": 72,
     "metadata": {},
     "output_type": "execute_result"
    },
    {
     "data": {
      "image/png": "[encoded data removed]",
      "text/plain": [
       "<Figure size 432x288 with 1 Axes>"
      ]
     },
     "metadata": {
      "needs_background": "light"
     },
     "output_type": "display_data"
    }
   ],
   "source": [
    "diff = df['GUESS GW'].diff()\n",
    "diff.plot()"
   ]
  },
  {
   "cell_type": "code",
   "execution_count": 74,
   "id": "3053ada3",
   "metadata": {},
   "outputs": [
    {
     "name": "stdout",
     "output_type": "stream",
     "text": [
      "ADF Statistic: -8.176451\n",
      "p-value: 0.000000\n",
      "Critical Values:\n",
      "\t1%: -3.434\n",
      "\t5%: -2.863\n",
      "\t10%: -2.568\n"
     ]
    }
   ],
   "source": [
    "# differentiated series is stationary (dickey fuller)\n",
    "X = diff[1:]\n",
    "result = adfuller(X)\n",
    "print('ADF Statistic: %f' % result[0])\n",
    "print('p-value: %f' % result[1])\n",
    "print('Critical Values:')\n",
    "for key, value in result[4].items():\n",
    "\tprint('\\t%s: %.3f' % (key, value))"
   ]
  },
  {
   "cell_type": "code",
   "execution_count": 57,
   "id": "d65fd4a2-ab87-438d-8904-a56b00e56c73",
   "metadata": {},
   "outputs": [
    {
     "name": "stdout",
     "output_type": "stream",
     "text": [
      "Performing stepwise search to minimize aic\n",
      " ARIMA(2,1,2)(0,0,0)[0] intercept   : AIC=inf, Time=2.17 sec\n",
      " ARIMA(0,1,0)(0,0,0)[0] intercept   : AIC=-2057.782, Time=0.26 sec\n",
      " ARIMA(1,1,0)(0,0,0)[0] intercept   : AIC=-2171.180, Time=0.41 sec\n",
      " ARIMA(0,1,1)(0,0,0)[0] intercept   : AIC=-2144.071, Time=0.26 sec\n",
      " ARIMA(0,1,0)(0,0,0)[0]             : AIC=-2055.847, Time=0.12 sec\n",
      " ARIMA(2,1,0)(0,0,0)[0] intercept   : AIC=-2206.920, Time=0.78 sec\n",
      " ARIMA(3,1,0)(0,0,0)[0] intercept   : AIC=-2219.911, Time=0.19 sec\n",
      " ARIMA(4,1,0)(0,0,0)[0] intercept   : AIC=-2244.974, Time=0.27 sec\n",
      " ARIMA(5,1,0)(0,0,0)[0] intercept   : AIC=-2248.029, Time=0.41 sec\n",
      " ARIMA(5,1,1)(0,0,0)[0] intercept   : AIC=-2246.191, Time=1.49 sec\n",
      " ARIMA(4,1,1)(0,0,0)[0] intercept   : AIC=-2244.957, Time=1.88 sec\n",
      " ARIMA(5,1,0)(0,0,0)[0]             : AIC=-2249.029, Time=0.17 sec\n",
      " ARIMA(4,1,0)(0,0,0)[0]             : AIC=-2245.851, Time=0.14 sec\n",
      " ARIMA(5,1,1)(0,0,0)[0]             : AIC=-2247.188, Time=0.70 sec\n",
      " ARIMA(4,1,1)(0,0,0)[0]             : AIC=-2245.893, Time=0.60 sec\n",
      "\n",
      "Best model:  ARIMA(5,1,0)(0,0,0)[0]          \n",
      "Total fit time: 9.850 seconds\n"
     ]
    },
    {
     "data": {
      "text/html": [
       "<table class=\"simpletable\">\n",
       "<caption>SARIMAX Results</caption>\n",
       "<tr>\n",
       "  <th>Dep. Variable:</th>           <td>y</td>        <th>  No. Observations:  </th>   <td>1791</td>   \n",
       "</tr>\n",
       "<tr>\n",
       "  <th>Model:</th>           <td>SARIMAX(5, 1, 0)</td> <th>  Log Likelihood     </th> <td>1130.514</td> \n",
       "</tr>\n",
       "<tr>\n",
       "  <th>Date:</th>            <td>Sun, 28 Nov 2021</td> <th>  AIC                </th> <td>-2249.029</td>\n",
       "</tr>\n",
       "<tr>\n",
       "  <th>Time:</th>                <td>21:15:11</td>     <th>  BIC                </th> <td>-2216.089</td>\n",
       "</tr>\n",
       "<tr>\n",
       "  <th>Sample:</th>                  <td>0</td>        <th>  HQIC               </th> <td>-2236.866</td>\n",
       "</tr>\n",
       "<tr>\n",
       "  <th></th>                      <td> - 1791</td>     <th>                     </th>     <td> </td>    \n",
       "</tr>\n",
       "<tr>\n",
       "  <th>Covariance Type:</th>        <td>opg</td>       <th>                     </th>     <td> </td>    \n",
       "</tr>\n",
       "</table>\n",
       "<table class=\"simpletable\">\n",
       "<tr>\n",
       "     <td></td>       <th>coef</th>     <th>std err</th>      <th>z</th>      <th>P>|z|</th>  <th>[0.025</th>    <th>0.975]</th>  \n",
       "</tr>\n",
       "<tr>\n",
       "  <th>ar.L1</th>  <td>    0.1835</td> <td>    0.015</td> <td>   12.620</td> <td> 0.000</td> <td>    0.155</td> <td>    0.212</td>\n",
       "</tr>\n",
       "<tr>\n",
       "  <th>ar.L2</th>  <td>    0.1067</td> <td>    0.016</td> <td>    6.752</td> <td> 0.000</td> <td>    0.076</td> <td>    0.138</td>\n",
       "</tr>\n",
       "<tr>\n",
       "  <th>ar.L3</th>  <td>    0.0616</td> <td>    0.019</td> <td>    3.260</td> <td> 0.001</td> <td>    0.025</td> <td>    0.099</td>\n",
       "</tr>\n",
       "<tr>\n",
       "  <th>ar.L4</th>  <td>    0.1131</td> <td>    0.017</td> <td>    6.751</td> <td> 0.000</td> <td>    0.080</td> <td>    0.146</td>\n",
       "</tr>\n",
       "<tr>\n",
       "  <th>ar.L5</th>  <td>    0.0539</td> <td>    0.017</td> <td>    3.255</td> <td> 0.001</td> <td>    0.021</td> <td>    0.086</td>\n",
       "</tr>\n",
       "<tr>\n",
       "  <th>sigma2</th> <td>    0.0166</td> <td>    0.000</td> <td>   49.700</td> <td> 0.000</td> <td>    0.016</td> <td>    0.017</td>\n",
       "</tr>\n",
       "</table>\n",
       "<table class=\"simpletable\">\n",
       "<tr>\n",
       "  <th>Ljung-Box (L1) (Q):</th>     <td>0.00</td> <th>  Jarque-Bera (JB):  </th> <td>1130.08</td>\n",
       "</tr>\n",
       "<tr>\n",
       "  <th>Prob(Q):</th>                <td>0.95</td> <th>  Prob(JB):          </th>  <td>0.00</td>  \n",
       "</tr>\n",
       "<tr>\n",
       "  <th>Heteroskedasticity (H):</th> <td>7.79</td> <th>  Skew:              </th>  <td>0.03</td>  \n",
       "</tr>\n",
       "<tr>\n",
       "  <th>Prob(H) (two-sided):</th>    <td>0.00</td> <th>  Kurtosis:          </th>  <td>6.89</td>  \n",
       "</tr>\n",
       "</table><br/><br/>Warnings:<br/>[1] Covariance matrix calculated using the outer product of gradients (complex-step)."
      ],
      "text/plain": [
       "<class 'statsmodels.iolib.summary.Summary'>\n",
       "\"\"\"\n",
       "                               SARIMAX Results                                \n",
       "==============================================================================\n",
       "Dep. Variable:                      y   No. Observations:                 1791\n",
       "Model:               SARIMAX(5, 1, 0)   Log Likelihood                1130.514\n",
       "Date:                Sun, 28 Nov 2021   AIC                          -2249.029\n",
       "Time:                        21:15:11   BIC                          -2216.089\n",
       "Sample:                             0   HQIC                         -2236.866\n",
       "                               - 1791                                         \n",
       "Covariance Type:                  opg                                         \n",
       "==============================================================================\n",
       "                 coef    std err          z      P>|z|      [0.025      0.975]\n",
       "------------------------------------------------------------------------------\n",
       "ar.L1          0.1835      0.015     12.620      0.000       0.155       0.212\n",
       "ar.L2          0.1067      0.016      6.752      0.000       0.076       0.138\n",
       "ar.L3          0.0616      0.019      3.260      0.001       0.025       0.099\n",
       "ar.L4          0.1131      0.017      6.751      0.000       0.080       0.146\n",
       "ar.L5          0.0539      0.017      3.255      0.001       0.021       0.086\n",
       "sigma2         0.0166      0.000     49.700      0.000       0.016       0.017\n",
       "===================================================================================\n",
       "Ljung-Box (L1) (Q):                   0.00   Jarque-Bera (JB):              1130.08\n",
       "Prob(Q):                              0.95   Prob(JB):                         0.00\n",
       "Heteroskedasticity (H):               7.79   Skew:                             0.03\n",
       "Prob(H) (two-sided):                  0.00   Kurtosis:                         6.89\n",
       "===================================================================================\n",
       "\n",
       "Warnings:\n",
       "[1] Covariance matrix calculated using the outer product of gradients (complex-step).\n",
       "\"\"\""
      ]
     },
     "execution_count": 57,
     "metadata": {},
     "output_type": "execute_result"
    }
   ],
   "source": [
    "stepwise_fit = auto_arima(df['GUESS GW'], trace = True,\n",
    "                          suppress_warnings = True)        \n",
    "stepwise_fit.summary()"
   ]
  },
  {
   "cell_type": "code",
   "execution_count": 95,
   "id": "7edbfb1c-1868-461e-bea5-6fcdc6287be5",
   "metadata": {},
   "outputs": [
    {
     "name": "stdout",
     "output_type": "stream",
     "text": [
      "(1791, 7)\n",
      "(1761, 7) (30, 7)\n"
     ]
    }
   ],
   "source": [
    "print(df.shape)\n",
    "train=df.iloc[:-30]\n",
    "test=df.iloc[-30:]\n",
    "print(train.shape, test.shape)"
   ]
  },
  {
   "cell_type": "code",
   "execution_count": 59,
   "id": "6074a3e5-6168-4e9f-8abb-d297571baaa4",
   "metadata": {},
   "outputs": [
    {
     "data": {
      "text/html": [
       "<table class=\"simpletable\">\n",
       "<caption>ARIMA Model Results</caption>\n",
       "<tr>\n",
       "  <th>Dep. Variable:</th>    <td>D.GUESS GW</td>    <th>  No. Observations:  </th>   <td>1760</td>   \n",
       "</tr>\n",
       "<tr>\n",
       "  <th>Model:</th>          <td>ARIMA(5, 1, 0)</td>  <th>  Log Likelihood     </th> <td>1120.211</td> \n",
       "</tr>\n",
       "<tr>\n",
       "  <th>Method:</th>             <td>css-mle</td>     <th>  S.D. of innovations</th>   <td>0.128</td>  \n",
       "</tr>\n",
       "<tr>\n",
       "  <th>Date:</th>          <td>Sun, 28 Nov 2021</td> <th>  AIC                </th> <td>-2226.423</td>\n",
       "</tr>\n",
       "<tr>\n",
       "  <th>Time:</th>              <td>21:15:35</td>     <th>  BIC                </th> <td>-2188.111</td>\n",
       "</tr>\n",
       "<tr>\n",
       "  <th>Sample:</th>           <td>01-03-2017</td>    <th>  HQIC               </th> <td>-2212.264</td>\n",
       "</tr>\n",
       "<tr>\n",
       "  <th></th>                 <td>- 10-28-2021</td>   <th>                     </th>     <td> </td>    \n",
       "</tr>\n",
       "</table>\n",
       "<table class=\"simpletable\">\n",
       "<tr>\n",
       "          <td></td>            <th>coef</th>     <th>std err</th>      <th>z</th>      <th>P>|z|</th>  <th>[0.025</th>    <th>0.975]</th>  \n",
       "</tr>\n",
       "<tr>\n",
       "  <th>const</th>            <td>    0.0066</td> <td>    0.006</td> <td>    1.049</td> <td> 0.294</td> <td>   -0.006</td> <td>    0.019</td>\n",
       "</tr>\n",
       "<tr>\n",
       "  <th>ar.L1.D.GUESS GW</th> <td>    0.1842</td> <td>    0.024</td> <td>    7.742</td> <td> 0.000</td> <td>    0.138</td> <td>    0.231</td>\n",
       "</tr>\n",
       "<tr>\n",
       "  <th>ar.L2.D.GUESS GW</th> <td>    0.1100</td> <td>    0.024</td> <td>    4.572</td> <td> 0.000</td> <td>    0.063</td> <td>    0.157</td>\n",
       "</tr>\n",
       "<tr>\n",
       "  <th>ar.L3.D.GUESS GW</th> <td>    0.0662</td> <td>    0.024</td> <td>    2.738</td> <td> 0.006</td> <td>    0.019</td> <td>    0.114</td>\n",
       "</tr>\n",
       "<tr>\n",
       "  <th>ar.L4.D.GUESS GW</th> <td>    0.1024</td> <td>    0.024</td> <td>    4.244</td> <td> 0.000</td> <td>    0.055</td> <td>    0.150</td>\n",
       "</tr>\n",
       "<tr>\n",
       "  <th>ar.L5.D.GUESS GW</th> <td>    0.0559</td> <td>    0.024</td> <td>    2.345</td> <td> 0.019</td> <td>    0.009</td> <td>    0.103</td>\n",
       "</tr>\n",
       "</table>\n",
       "<table class=\"simpletable\">\n",
       "<caption>Roots</caption>\n",
       "<tr>\n",
       "    <td></td>   <th>            Real</th>  <th>         Imaginary</th> <th>         Modulus</th>  <th>        Frequency</th>\n",
       "</tr>\n",
       "<tr>\n",
       "  <th>AR.1</th> <td>           1.2708</td> <td>          -0.0000j</td> <td>           1.2708</td> <td>          -0.0000</td>\n",
       "</tr>\n",
       "<tr>\n",
       "  <th>AR.2</th> <td>           0.3353</td> <td>          -1.7180j</td> <td>           1.7505</td> <td>          -0.2193</td>\n",
       "</tr>\n",
       "<tr>\n",
       "  <th>AR.3</th> <td>           0.3353</td> <td>          +1.7180j</td> <td>           1.7505</td> <td>           0.2193</td>\n",
       "</tr>\n",
       "<tr>\n",
       "  <th>AR.4</th> <td>          -1.8868</td> <td>          -1.0164j</td> <td>           2.1432</td> <td>          -0.4214</td>\n",
       "</tr>\n",
       "<tr>\n",
       "  <th>AR.5</th> <td>          -1.8868</td> <td>          +1.0164j</td> <td>           2.1432</td> <td>           0.4214</td>\n",
       "</tr>\n",
       "</table>"
      ],
      "text/plain": [
       "<class 'statsmodels.iolib.summary.Summary'>\n",
       "\"\"\"\n",
       "                             ARIMA Model Results                              \n",
       "==============================================================================\n",
       "Dep. Variable:             D.GUESS GW   No. Observations:                 1760\n",
       "Model:                 ARIMA(5, 1, 0)   Log Likelihood                1120.211\n",
       "Method:                       css-mle   S.D. of innovations              0.128\n",
       "Date:                Sun, 28 Nov 2021   AIC                          -2226.423\n",
       "Time:                        21:15:35   BIC                          -2188.111\n",
       "Sample:                    01-03-2017   HQIC                         -2212.264\n",
       "                         - 10-28-2021                                         \n",
       "====================================================================================\n",
       "                       coef    std err          z      P>|z|      [0.025      0.975]\n",
       "------------------------------------------------------------------------------------\n",
       "const                0.0066      0.006      1.049      0.294      -0.006       0.019\n",
       "ar.L1.D.GUESS GW     0.1842      0.024      7.742      0.000       0.138       0.231\n",
       "ar.L2.D.GUESS GW     0.1100      0.024      4.572      0.000       0.063       0.157\n",
       "ar.L3.D.GUESS GW     0.0662      0.024      2.738      0.006       0.019       0.114\n",
       "ar.L4.D.GUESS GW     0.1024      0.024      4.244      0.000       0.055       0.150\n",
       "ar.L5.D.GUESS GW     0.0559      0.024      2.345      0.019       0.009       0.103\n",
       "                                    Roots                                    \n",
       "=============================================================================\n",
       "                  Real          Imaginary           Modulus         Frequency\n",
       "-----------------------------------------------------------------------------\n",
       "AR.1            1.2708           -0.0000j            1.2708           -0.0000\n",
       "AR.2            0.3353           -1.7180j            1.7505           -0.2193\n",
       "AR.3            0.3353           +1.7180j            1.7505            0.2193\n",
       "AR.4           -1.8868           -1.0164j            2.1432           -0.4214\n",
       "AR.5           -1.8868           +1.0164j            2.1432            0.4214\n",
       "-----------------------------------------------------------------------------\n",
       "\"\"\""
      ]
     },
     "execution_count": 59,
     "metadata": {},
     "output_type": "execute_result"
    }
   ],
   "source": [
    "model=ARIMA(train['GUESS GW'],order=(5,1,0))\n",
    "model=model.fit()\n",
    "model.summary()"
   ]
  },
  {
   "cell_type": "code",
   "execution_count": 60,
   "id": "32650465-8224-4da2-968a-c87209eb5052",
   "metadata": {},
   "outputs": [
    {
     "name": "stdout",
     "output_type": "stream",
     "text": [
      "Date\n",
      "2021-10-29    12.928966\n",
      "2021-10-30    12.972739\n",
      "2021-10-31    13.000703\n",
      "2021-11-01    13.029022\n",
      "2021-11-02    13.052735\n",
      "2021-11-03    13.073051\n",
      "2021-11-04    13.089785\n",
      "2021-11-05    13.104333\n",
      "2021-11-06    13.117408\n",
      "2021-11-07    13.129128\n",
      "2021-11-08    13.139735\n",
      "2021-11-09    13.149467\n",
      "2021-11-10    13.158552\n",
      "2021-11-11    13.167126\n",
      "2021-11-12    13.175288\n",
      "2021-11-13    13.183124\n",
      "2021-11-14    13.190704\n",
      "2021-11-15    13.198086\n",
      "2021-11-16    13.205312\n",
      "2021-11-17    13.212412\n",
      "2021-11-18    13.219416\n",
      "2021-11-19    13.226342\n",
      "2021-11-20    13.233209\n",
      "2021-11-21    13.240028\n",
      "2021-11-22    13.246809\n",
      "2021-11-23    13.253562\n",
      "2021-11-24    13.260291\n",
      "2021-11-25    13.267002\n",
      "2021-11-26    13.273698\n",
      "2021-11-27    13.280383\n",
      "dtype: float64\n"
     ]
    }
   ],
   "source": [
    "start=len(train)\n",
    "end=len(train)+len(test)-1\n",
    "pred=model.predict(start=start,end=end,typ='levels')\n",
    "#print(pred)\n",
    "pred.index=df.index[start:end+1]\n",
    "print(pred)"
   ]
  },
  {
   "cell_type": "code",
   "execution_count": 61,
   "id": "9023cb68-2017-41cf-9c22-8eccc9923703",
   "metadata": {},
   "outputs": [
    {
     "data": {
      "text/plain": [
       "<AxesSubplot:xlabel='Date'>"
      ]
     },
     "execution_count": 61,
     "metadata": {},
     "output_type": "execute_result"
    },
    {
     "data": {
      "image/png": "[encoded data removed]",
      "text/plain": [
       "<Figure size 432x288 with 1 Axes>"
      ]
     },
     "metadata": {
      "needs_background": "light"
     },
     "output_type": "display_data"
    }
   ],
   "source": [
    "pred.plot(legend=True)\n",
    "test['GUESS GW'].plot(legend=True)"
   ]
  },
  {
   "cell_type": "code",
   "execution_count": 89,
   "id": "e2cd7d16",
   "metadata": {},
   "outputs": [
    {
     "data": {
      "text/plain": [
       "<AxesSubplot:xlabel='Date'>"
      ]
     },
     "execution_count": 89,
     "metadata": {},
     "output_type": "execute_result"
    },
    {
     "data": {
      "image/png": "[encoded data removed]",
      "text/plain": [
       "<Figure size 864x360 with 1 Axes>"
      ]
     },
     "metadata": {
      "needs_background": "light"
     },
     "output_type": "display_data"
    }
   ],
   "source": [
    "comparison = df.reset_index()\n",
    "comparison = comparison[comparison[\"Date\"] > \"2021-10-28\"]\n",
    "comparison = comparison.set_index(\"Date\")\n",
    "comparison[\"GUESS GW\"].plot(figsize=(12,5))"
   ]
  },
  {
   "cell_type": "code",
   "execution_count": 62,
   "id": "433a6bcf-dd4e-4f57-9a4c-dd202b74fdf3",
   "metadata": {},
   "outputs": [
    {
     "data": {
      "text/plain": [
       "13.236316957554164"
      ]
     },
     "execution_count": 62,
     "metadata": {},
     "output_type": "execute_result"
    }
   ],
   "source": [
    "test['GUESS GW'].mean()"
   ]
  },
  {
   "cell_type": "code",
   "execution_count": 64,
   "id": "6861f225-dbd5-491c-a8f4-b40b6ef2b21e",
   "metadata": {},
   "outputs": [
    {
     "name": "stdout",
     "output_type": "stream",
     "text": [
      "0.28122567567638734\n"
     ]
    }
   ],
   "source": [
    "rmse=sqrt(mean_squared_error(pred,test['GUESS GW']))\n",
    "print(rmse)"
   ]
  },
  {
   "cell_type": "code",
   "execution_count": 66,
   "id": "03b6816e-8055-4e0d-b41f-5998efe7e2c9",
   "metadata": {},
   "outputs": [
    {
     "data": {
      "text/html": [
       "<div>\n",
       "<style scoped>\n",
       "    .dataframe tbody tr th:only-of-type {\n",
       "        vertical-align: middle;\n",
       "    }\n",
       "\n",
       "    .dataframe tbody tr th {\n",
       "        vertical-align: top;\n",
       "    }\n",
       "\n",
       "    .dataframe thead th {\n",
       "        text-align: right;\n",
       "    }\n",
       "</style>\n",
       "<table border=\"1\" class=\"dataframe\">\n",
       "  <thead>\n",
       "    <tr style=\"text-align: right;\">\n",
       "      <th></th>\n",
       "      <th>Timestamp</th>\n",
       "      <th>MAX GW</th>\n",
       "      <th>MIN GW</th>\n",
       "      <th>GUESS GW</th>\n",
       "      <th>annualised consumption MAX TWh</th>\n",
       "      <th>annualised consumption MIN TWh</th>\n",
       "      <th>annualised consumption GUESS TWh</th>\n",
       "    </tr>\n",
       "    <tr>\n",
       "      <th>Date</th>\n",
       "      <th></th>\n",
       "      <th></th>\n",
       "      <th></th>\n",
       "      <th></th>\n",
       "      <th></th>\n",
       "      <th></th>\n",
       "      <th></th>\n",
       "    </tr>\n",
       "  </thead>\n",
       "  <tbody>\n",
       "    <tr>\n",
       "      <th>2021-11-23</th>\n",
       "      <td>1637625600</td>\n",
       "      <td>48.617960</td>\n",
       "      <td>4.709599</td>\n",
       "      <td>12.969188</td>\n",
       "      <td>426.185037</td>\n",
       "      <td>41.284341</td>\n",
       "      <td>113.687902</td>\n",
       "    </tr>\n",
       "    <tr>\n",
       "      <th>2021-11-24</th>\n",
       "      <td>1637712000</td>\n",
       "      <td>49.014837</td>\n",
       "      <td>4.748044</td>\n",
       "      <td>13.075058</td>\n",
       "      <td>429.664059</td>\n",
       "      <td>41.621352</td>\n",
       "      <td>114.615956</td>\n",
       "    </tr>\n",
       "    <tr>\n",
       "      <th>2021-11-25</th>\n",
       "      <td>1637798400</td>\n",
       "      <td>48.320291</td>\n",
       "      <td>4.680764</td>\n",
       "      <td>12.889783</td>\n",
       "      <td>423.575674</td>\n",
       "      <td>41.031573</td>\n",
       "      <td>112.991836</td>\n",
       "    </tr>\n",
       "    <tr>\n",
       "      <th>2021-11-26</th>\n",
       "      <td>1637884800</td>\n",
       "      <td>48.072227</td>\n",
       "      <td>4.656734</td>\n",
       "      <td>12.823610</td>\n",
       "      <td>421.401140</td>\n",
       "      <td>40.820927</td>\n",
       "      <td>112.411763</td>\n",
       "    </tr>\n",
       "    <tr>\n",
       "      <th>2021-11-27</th>\n",
       "      <td>1637971200</td>\n",
       "      <td>47.973019</td>\n",
       "      <td>4.647123</td>\n",
       "      <td>12.797145</td>\n",
       "      <td>420.531481</td>\n",
       "      <td>40.736684</td>\n",
       "      <td>112.179775</td>\n",
       "    </tr>\n",
       "  </tbody>\n",
       "</table>\n",
       "</div>"
      ],
      "text/plain": [
       "             Timestamp     MAX GW    MIN GW   GUESS GW  \\\n",
       "Date                                                     \n",
       "2021-11-23  1637625600  48.617960  4.709599  12.969188   \n",
       "2021-11-24  1637712000  49.014837  4.748044  13.075058   \n",
       "2021-11-25  1637798400  48.320291  4.680764  12.889783   \n",
       "2021-11-26  1637884800  48.072227  4.656734  12.823610   \n",
       "2021-11-27  1637971200  47.973019  4.647123  12.797145   \n",
       "\n",
       "             annualised consumption MAX TWh  annualised consumption MIN TWh  \\\n",
       "Date                                                                          \n",
       "2021-11-23                       426.185037                       41.284341   \n",
       "2021-11-24                       429.664059                       41.621352   \n",
       "2021-11-25                       423.575674                       41.031573   \n",
       "2021-11-26                       421.401140                       40.820927   \n",
       "2021-11-27                       420.531481                       40.736684   \n",
       "\n",
       "            annualised consumption GUESS TWh  \n",
       "Date                                          \n",
       "2021-11-23                        113.687902  \n",
       "2021-11-24                        114.615956  \n",
       "2021-11-25                        112.991836  \n",
       "2021-11-26                        112.411763  \n",
       "2021-11-27                        112.179775  "
      ]
     },
     "execution_count": 66,
     "metadata": {},
     "output_type": "execute_result"
    }
   ],
   "source": [
    "model2=ARIMA(df['GUESS GW'],order=(5,1,0))\n",
    "model2=model2.fit()\n",
    "df.tail()"
   ]
  },
  {
   "cell_type": "code",
   "execution_count": 67,
   "id": "32c96083-43d0-424c-96cc-2dc9c4360d9c",
   "metadata": {},
   "outputs": [
    {
     "name": "stdout",
     "output_type": "stream",
     "text": [
      "2021-11-10    12.776287\n",
      "2021-11-11    12.753498\n",
      "2021-11-12    12.731278\n",
      "2021-11-13    12.720087\n",
      "2021-11-14    12.713594\n",
      "2021-11-15    12.709245\n",
      "2021-11-16    12.706419\n",
      "2021-11-17    12.705653\n",
      "2021-11-18    12.706670\n",
      "2021-11-19    12.708815\n",
      "2021-11-20    12.711765\n",
      "2021-11-21    12.715402\n",
      "2021-11-22    12.719629\n",
      "2021-11-23    12.724308\n",
      "2021-11-24    12.729323\n",
      "2021-11-25    12.734604\n",
      "2021-11-26    12.740099\n",
      "2021-11-27    12.745764\n",
      "2021-11-28    12.751561\n",
      "2021-11-29    12.757461\n",
      "2021-11-30    12.763442\n",
      "2021-12-01    12.769488\n",
      "2021-12-02    12.775583\n",
      "2021-12-03    12.781719\n",
      "2021-12-04    12.787885\n",
      "2021-12-05    12.794076\n",
      "2021-12-06    12.800287\n",
      "2021-12-07    12.806512\n",
      "2021-12-08    12.812749\n",
      "2021-12-09    12.818996\n",
      "2021-12-10    12.825250\n",
      "Freq: D, Name: ARIMA Predictions, dtype: float64\n"
     ]
    }
   ],
   "source": [
    "index_future_dates=pd.date_range(start='2021-11-10',end='2021-12-10')\n",
    "#print(index_future_dates)\n",
    "pred=model2.predict(start=len(df),end=len(df)+30,typ='levels').rename('ARIMA Predictions')\n",
    "#print(comp_pred)\n",
    "pred.index=index_future_dates\n",
    "print(pred)"
   ]
  },
  {
   "cell_type": "code",
   "execution_count": 68,
   "id": "2051951e-0d0e-4948-997b-764f7cd9f19b",
   "metadata": {},
   "outputs": [
    {
     "data": {
      "text/plain": [
       "<AxesSubplot:>"
      ]
     },
     "execution_count": 68,
     "metadata": {},
     "output_type": "execute_result"
    },
    {
     "data": {
      "image/png": "[encoded data removed]",
      "text/plain": [
       "<Figure size 864x360 with 1 Axes>"
      ]
     },
     "metadata": {
      "needs_background": "light"
     },
     "output_type": "display_data"
    }
   ],
   "source": [
    "pred.plot(figsize=(12,5),legend=True)"
   ]
  },
  {
   "cell_type": "code",
   "execution_count": 121,
   "id": "d67a2de1",
   "metadata": {},
   "outputs": [
    {
     "data": {
      "image/png": "[encoded data removed]",
      "text/plain": [
       "<Figure size 432x288 with 1 Axes>"
      ]
     },
     "metadata": {
      "needs_background": "light"
     },
     "output_type": "display_data"
    }
   ],
   "source": [
    "# create acf plot\n",
    "plot_acf(df[\"GUESS GW\"])\n",
    "pyplot.show()"
   ]
  },
  {
   "cell_type": "code",
   "execution_count": 108,
   "id": "f82e5bcf-9f5f-4cc1-8ad6-8d67956a1ea9",
   "metadata": {},
   "outputs": [
    {
     "name": "stdout",
     "output_type": "stream",
     "text": [
      "Iteration:      1,   Func. Count:     33,   Neg. LLF: 5380.774979409223\n",
      "Iteration:      2,   Func. Count:     65,   Neg. LLF: 5381.148191247085\n",
      "Iteration:      3,   Func. Count:     98,   Neg. LLF: 5380.764775804555\n",
      "Iteration:      4,   Func. Count:    130,   Neg. LLF: 5380.764774121089\n",
      "Iteration:      5,   Func. Count:    161,   Neg. LLF: 5380.764774110922\n",
      "Optimization terminated successfully    (Exit mode 0)\n",
      "            Current function value: 5380.764774121089\n",
      "            Iterations: 5\n",
      "            Function evaluations: 161\n",
      "            Gradient evaluations: 5\n"
     ]
    }
   ],
   "source": [
    "data_train = train[\"GUESS GW\"]\n",
    "garch = arch_model(data_train, mean='Zero', vol='GARCH', p=15, q=15)\n",
    "garch_fit = garch.fit()"
   ]
  },
  {
   "cell_type": "code",
   "execution_count": 122,
   "id": "0069ab02",
   "metadata": {},
   "outputs": [],
   "source": [
    "# forecast the test set\n",
    "yhat = garch_fit.forecast(horizon=30)\n",
    "# plot the actual variance\n",
    "# ..."
   ]
  },
  {
   "cell_type": "code",
   "execution_count": 118,
   "id": "c10f50a1",
   "metadata": {},
   "outputs": [
    {
     "data": {
      "image/png": "[encoded data removed]",
      "text/plain": [
       "<Figure size 432x288 with 1 Axes>"
      ]
     },
     "metadata": {
      "needs_background": "light"
     },
     "output_type": "display_data"
    }
   ],
   "source": [
    "# plot forecast variance\n",
    "pyplot.plot(yhat.variance.values[-1, :])\n",
    "pyplot.show()"
   ]
  }
 ],
 "metadata": {
  "kernelspec": {
   "display_name": "Python 3",
   "language": "python",
   "name": "python3"
  },
  "language_info": {
   "codemirror_mode": {
    "name": "ipython",
    "version": 3
   },
   "file_extension": ".py",
   "mimetype": "text/x-python",
   "name": "python",
   "nbconvert_exporter": "python",
   "pygments_lexer": "ipython3",
   "version": "3.8.5"
  }
 },
 "nbformat": 4,
 "nbformat_minor": 5
}
