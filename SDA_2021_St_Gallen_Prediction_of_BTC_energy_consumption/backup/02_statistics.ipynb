{
 "cells": [
  {
   "cell_type": "code",
   "execution_count": 20,
   "metadata": {},
   "outputs": [
    {
     "ename": "ImportError",
     "evalue": "this version of pandas is incompatible with numpy < 1.15.4\nyour numpy version is 1.14.5.\nPlease upgrade numpy to >= 1.15.4 to use this pandas version",
     "output_type": "error",
     "traceback": [
      "\u001b[1;31m---------------------------------------------------------------------------\u001b[0m",
      "\u001b[1;31mImportError\u001b[0m                               Traceback (most recent call last)",
      "\u001b[1;32m<ipython-input-20-f81d083acfb9>\u001b[0m in \u001b[0;36m<module>\u001b[1;34m\u001b[0m\n\u001b[0;32m      1\u001b[0m \u001b[1;31m#packages\u001b[0m\u001b[1;33m\u001b[0m\u001b[1;33m\u001b[0m\u001b[1;33m\u001b[0m\u001b[0m\n\u001b[1;32m----> 2\u001b[1;33m \u001b[1;32mimport\u001b[0m \u001b[0mpandas\u001b[0m \u001b[1;32mas\u001b[0m \u001b[0mpd\u001b[0m\u001b[1;33m\u001b[0m\u001b[1;33m\u001b[0m\u001b[0m\n\u001b[0m\u001b[0;32m      3\u001b[0m \u001b[1;32mimport\u001b[0m \u001b[0mseaborn\u001b[0m \u001b[1;32mas\u001b[0m \u001b[0msn\u001b[0m\u001b[1;33m\u001b[0m\u001b[1;33m\u001b[0m\u001b[0m\n\u001b[0;32m      4\u001b[0m \u001b[1;32mimport\u001b[0m \u001b[0mmatplotlib\u001b[0m\u001b[1;33m.\u001b[0m\u001b[0mpyplot\u001b[0m \u001b[1;32mas\u001b[0m \u001b[0mplt\u001b[0m\u001b[1;33m\u001b[0m\u001b[1;33m\u001b[0m\u001b[0m\n",
      "\u001b[1;32m~\\.conda\\envs\\python36\\lib\\site-packages\\pandas\\__init__.py\u001b[0m in \u001b[0;36m<module>\u001b[1;34m\u001b[0m\n\u001b[0;32m     20\u001b[0m \u001b[1;33m\u001b[0m\u001b[0m\n\u001b[0;32m     21\u001b[0m \u001b[1;31m# numpy compat\u001b[0m\u001b[1;33m\u001b[0m\u001b[1;33m\u001b[0m\u001b[1;33m\u001b[0m\u001b[0m\n\u001b[1;32m---> 22\u001b[1;33m from pandas.compat.numpy import (\n\u001b[0m\u001b[0;32m     23\u001b[0m     \u001b[0m_np_version_under1p16\u001b[0m\u001b[1;33m,\u001b[0m\u001b[1;33m\u001b[0m\u001b[1;33m\u001b[0m\u001b[0m\n\u001b[0;32m     24\u001b[0m     \u001b[0m_np_version_under1p17\u001b[0m\u001b[1;33m,\u001b[0m\u001b[1;33m\u001b[0m\u001b[1;33m\u001b[0m\u001b[0m\n",
      "\u001b[1;32m~\\.conda\\envs\\python36\\lib\\site-packages\\pandas\\compat\\numpy\\__init__.py\u001b[0m in \u001b[0;36m<module>\u001b[1;34m\u001b[0m\n\u001b[0;32m     19\u001b[0m \u001b[1;32mif\u001b[0m \u001b[0m_nlv\u001b[0m \u001b[1;33m<\u001b[0m \u001b[1;34m\"1.15.4\"\u001b[0m\u001b[1;33m:\u001b[0m\u001b[1;33m\u001b[0m\u001b[1;33m\u001b[0m\u001b[0m\n\u001b[0;32m     20\u001b[0m     raise ImportError(\n\u001b[1;32m---> 21\u001b[1;33m         \u001b[1;34m\"this version of pandas is incompatible with numpy < 1.15.4\\n\"\u001b[0m\u001b[1;33m\u001b[0m\u001b[1;33m\u001b[0m\u001b[0m\n\u001b[0m\u001b[0;32m     22\u001b[0m         \u001b[1;34mf\"your numpy version is {_np_version}.\\n\"\u001b[0m\u001b[1;33m\u001b[0m\u001b[1;33m\u001b[0m\u001b[0m\n\u001b[0;32m     23\u001b[0m         \u001b[1;34m\"Please upgrade numpy to >= 1.15.4 to use this pandas version\"\u001b[0m\u001b[1;33m\u001b[0m\u001b[1;33m\u001b[0m\u001b[0m\n",
      "\u001b[1;31mImportError\u001b[0m: this version of pandas is incompatible with numpy < 1.15.4\nyour numpy version is 1.14.5.\nPlease upgrade numpy to >= 1.15.4 to use this pandas version"
     ]
    }
   ],
   "source": [
    "#packages\n",
    "import pandas as pd\n",
    "import seaborn as sn\n",
    "import matplotlib.pyplot as plt"
   ]
  },
  {
   "cell_type": "markdown",
   "metadata": {},
   "source": [
    "# Descriptive Statistics"
   ]
  },
  {
   "cell_type": "code",
   "execution_count": 2,
   "metadata": {},
   "outputs": [
    {
     "ename": "NameError",
     "evalue": "name 'pd' is not defined",
     "output_type": "error",
     "traceback": [
      "\u001b[1;31m---------------------------------------------------------------------------\u001b[0m",
      "\u001b[1;31mNameError\u001b[0m                                 Traceback (most recent call last)",
      "\u001b[1;32m<ipython-input-2-4af0a2ec96d4>\u001b[0m in \u001b[0;36m<module>\u001b[1;34m\u001b[0m\n\u001b[0;32m      1\u001b[0m \u001b[1;31m#load data\u001b[0m\u001b[1;33m\u001b[0m\u001b[1;33m\u001b[0m\u001b[1;33m\u001b[0m\u001b[0m\n\u001b[1;32m----> 2\u001b[1;33m \u001b[0mdf_btc\u001b[0m \u001b[1;33m=\u001b[0m \u001b[0mpd\u001b[0m\u001b[1;33m.\u001b[0m\u001b[0mread_csv\u001b[0m \u001b[1;33m(\u001b[0m\u001b[1;34mr'.\\data\\df_btc.csv'\u001b[0m\u001b[1;33m)\u001b[0m\u001b[1;33m\u001b[0m\u001b[1;33m\u001b[0m\u001b[0m\n\u001b[0m\u001b[0;32m      3\u001b[0m \u001b[0mdf_eth\u001b[0m \u001b[1;33m=\u001b[0m \u001b[0mpd\u001b[0m\u001b[1;33m.\u001b[0m\u001b[0mread_csv\u001b[0m \u001b[1;33m(\u001b[0m\u001b[1;34mr'.\\data\\df_eth.csv'\u001b[0m\u001b[1;33m)\u001b[0m\u001b[1;33m\u001b[0m\u001b[1;33m\u001b[0m\u001b[0m\n",
      "\u001b[1;31mNameError\u001b[0m: name 'pd' is not defined"
     ]
    }
   ],
   "source": [
    "#load data\n",
    "df_btc = pd.read_csv(r'.\\data\\df_btc.csv')\n",
    "df_eth = pd.read_csv(r'.\\data\\df_eth.csv')"
   ]
  },
  {
   "cell_type": "markdown",
   "metadata": {},
   "source": [
    "## Bitcoin"
   ]
  },
  {
   "cell_type": "code",
   "execution_count": 12,
   "metadata": {},
   "outputs": [
    {
     "data": {
      "text/html": [
       "<div>\n",
       "<style scoped>\n",
       "    .dataframe tbody tr th:only-of-type {\n",
       "        vertical-align: middle;\n",
       "    }\n",
       "\n",
       "    .dataframe tbody tr th {\n",
       "        vertical-align: top;\n",
       "    }\n",
       "\n",
       "    .dataframe thead th {\n",
       "        text-align: right;\n",
       "    }\n",
       "</style>\n",
       "<table border=\"1\" class=\"dataframe\">\n",
       "  <thead>\n",
       "    <tr style=\"text-align: right;\">\n",
       "      <th></th>\n",
       "      <th>Open*</th>\n",
       "      <th>High</th>\n",
       "      <th>Low</th>\n",
       "      <th>Close**</th>\n",
       "      <th>Volume</th>\n",
       "      <th>Market Cap</th>\n",
       "      <th>Estimated TWh per Year</th>\n",
       "      <th>Minimum TWh per Year</th>\n",
       "    </tr>\n",
       "  </thead>\n",
       "  <tbody>\n",
       "    <tr>\n",
       "      <th>count</th>\n",
       "      <td>56.000000</td>\n",
       "      <td>56.000000</td>\n",
       "      <td>56.000000</td>\n",
       "      <td>56.000000</td>\n",
       "      <td>5.600000e+01</td>\n",
       "      <td>5.600000e+01</td>\n",
       "      <td>56.000000</td>\n",
       "      <td>56.000000</td>\n",
       "    </tr>\n",
       "    <tr>\n",
       "      <th>mean</th>\n",
       "      <td>54867.683036</td>\n",
       "      <td>56337.015893</td>\n",
       "      <td>53614.515893</td>\n",
       "      <td>55168.306964</td>\n",
       "      <td>3.609699e+10</td>\n",
       "      <td>1.039680e+12</td>\n",
       "      <td>175.129240</td>\n",
       "      <td>44.087599</td>\n",
       "    </tr>\n",
       "    <tr>\n",
       "      <th>std</th>\n",
       "      <td>8127.217789</td>\n",
       "      <td>8226.606441</td>\n",
       "      <td>8047.519750</td>\n",
       "      <td>8191.869105</td>\n",
       "      <td>6.566417e+09</td>\n",
       "      <td>1.550940e+11</td>\n",
       "      <td>8.444914</td>\n",
       "      <td>2.640276</td>\n",
       "    </tr>\n",
       "    <tr>\n",
       "      <th>min</th>\n",
       "      <td>40677.950000</td>\n",
       "      <td>42545.260000</td>\n",
       "      <td>39787.610000</td>\n",
       "      <td>40693.680000</td>\n",
       "      <td>2.472675e+10</td>\n",
       "      <td>7.659585e+11</td>\n",
       "      <td>162.427740</td>\n",
       "      <td>40.750117</td>\n",
       "    </tr>\n",
       "    <tr>\n",
       "      <th>25%</th>\n",
       "      <td>47748.257500</td>\n",
       "      <td>48409.100000</td>\n",
       "      <td>47013.700000</td>\n",
       "      <td>47765.392500</td>\n",
       "      <td>3.090033e+10</td>\n",
       "      <td>8.990212e+11</td>\n",
       "      <td>167.572618</td>\n",
       "      <td>41.614904</td>\n",
       "    </tr>\n",
       "    <tr>\n",
       "      <th>50%</th>\n",
       "      <td>57359.365000</td>\n",
       "      <td>58135.890000</td>\n",
       "      <td>55693.955000</td>\n",
       "      <td>57442.945000</td>\n",
       "      <td>3.537643e+10</td>\n",
       "      <td>1.082345e+12</td>\n",
       "      <td>174.296191</td>\n",
       "      <td>43.588575</td>\n",
       "    </tr>\n",
       "    <tr>\n",
       "      <th>75%</th>\n",
       "      <td>61550.330000</td>\n",
       "      <td>62799.750000</td>\n",
       "      <td>60237.082500</td>\n",
       "      <td>61563.702500</td>\n",
       "      <td>4.109422e+10</td>\n",
       "      <td>1.160737e+12</td>\n",
       "      <td>182.254726</td>\n",
       "      <td>46.012797</td>\n",
       "    </tr>\n",
       "    <tr>\n",
       "      <th>max</th>\n",
       "      <td>67549.740000</td>\n",
       "      <td>68789.630000</td>\n",
       "      <td>66382.060000</td>\n",
       "      <td>67566.830000</td>\n",
       "      <td>5.178008e+10</td>\n",
       "      <td>1.274831e+12</td>\n",
       "      <td>190.490489</td>\n",
       "      <td>49.350032</td>\n",
       "    </tr>\n",
       "  </tbody>\n",
       "</table>\n",
       "</div>"
      ],
      "text/plain": [
       "              Open*          High           Low       Close**        Volume  \\\n",
       "count     56.000000     56.000000     56.000000     56.000000  5.600000e+01   \n",
       "mean   54867.683036  56337.015893  53614.515893  55168.306964  3.609699e+10   \n",
       "std     8127.217789   8226.606441   8047.519750   8191.869105  6.566417e+09   \n",
       "min    40677.950000  42545.260000  39787.610000  40693.680000  2.472675e+10   \n",
       "25%    47748.257500  48409.100000  47013.700000  47765.392500  3.090033e+10   \n",
       "50%    57359.365000  58135.890000  55693.955000  57442.945000  3.537643e+10   \n",
       "75%    61550.330000  62799.750000  60237.082500  61563.702500  4.109422e+10   \n",
       "max    67549.740000  68789.630000  66382.060000  67566.830000  5.178008e+10   \n",
       "\n",
       "         Market Cap  Estimated TWh per Year  Minimum TWh per Year  \n",
       "count  5.600000e+01               56.000000             56.000000  \n",
       "mean   1.039680e+12              175.129240             44.087599  \n",
       "std    1.550940e+11                8.444914              2.640276  \n",
       "min    7.659585e+11              162.427740             40.750117  \n",
       "25%    8.990212e+11              167.572618             41.614904  \n",
       "50%    1.082345e+12              174.296191             43.588575  \n",
       "75%    1.160737e+12              182.254726             46.012797  \n",
       "max    1.274831e+12              190.490489             49.350032  "
      ]
     },
     "execution_count": 12,
     "metadata": {},
     "output_type": "execute_result"
    }
   ],
   "source": [
    "df_btc.describe()"
   ]
  },
  {
   "cell_type": "code",
   "execution_count": 1,
   "metadata": {},
   "outputs": [
    {
     "ename": "NameError",
     "evalue": "name 'df_btc' is not defined",
     "output_type": "error",
     "traceback": [
      "\u001b[1;31m---------------------------------------------------------------------------\u001b[0m",
      "\u001b[1;31mNameError\u001b[0m                                 Traceback (most recent call last)",
      "\u001b[1;32m<ipython-input-1-d2ec17f01e5c>\u001b[0m in \u001b[0;36m<module>\u001b[1;34m\u001b[0m\n\u001b[0;32m      1\u001b[0m \u001b[1;31m#correlation matrix\u001b[0m\u001b[1;33m\u001b[0m\u001b[1;33m\u001b[0m\u001b[1;33m\u001b[0m\u001b[0m\n\u001b[1;32m----> 2\u001b[1;33m \u001b[0mcorrMatrix\u001b[0m \u001b[1;33m=\u001b[0m \u001b[0mdf_btc\u001b[0m\u001b[1;33m[\u001b[0m\u001b[1;34m'Close**'\u001b[0m\u001b[1;33m,\u001b[0m\u001b[1;34m'Minimum TWh per Year'\u001b[0m\u001b[1;33m]\u001b[0m\u001b[1;33m.\u001b[0m\u001b[0mcorr\u001b[0m\u001b[1;33m(\u001b[0m\u001b[1;33m)\u001b[0m\u001b[1;33m\u001b[0m\u001b[1;33m\u001b[0m\u001b[0m\n\u001b[0m\u001b[0;32m      3\u001b[0m \u001b[0msn\u001b[0m\u001b[1;33m.\u001b[0m\u001b[0mheatmap\u001b[0m\u001b[1;33m(\u001b[0m\u001b[0mcorrMatrix\u001b[0m\u001b[1;33m,\u001b[0m \u001b[0mannot\u001b[0m\u001b[1;33m=\u001b[0m\u001b[1;32mTrue\u001b[0m\u001b[1;33m)\u001b[0m\u001b[1;33m\u001b[0m\u001b[1;33m\u001b[0m\u001b[0m\n\u001b[0;32m      4\u001b[0m \u001b[0mplt\u001b[0m\u001b[1;33m.\u001b[0m\u001b[0mshow\u001b[0m\u001b[1;33m(\u001b[0m\u001b[1;33m)\u001b[0m\u001b[1;33m\u001b[0m\u001b[1;33m\u001b[0m\u001b[0m\n",
      "\u001b[1;31mNameError\u001b[0m: name 'df_btc' is not defined"
     ]
    }
   ],
   "source": [
    "#correlation matrix\n",
    "corrMatrix = df_btc['Close**','Minimum TWh per Year'].corr()\n",
    "sn.heatmap(corrMatrix, annot=True)\n",
    "plt.show()"
   ]
  },
  {
   "cell_type": "code",
   "execution_count": null,
   "metadata": {},
   "outputs": [],
   "source": []
  },
  {
   "cell_type": "markdown",
   "metadata": {},
   "source": [
    "## Ethereum"
   ]
  },
  {
   "cell_type": "code",
   "execution_count": 13,
   "metadata": {},
   "outputs": [
    {
     "data": {
      "text/html": [
       "<div>\n",
       "<style scoped>\n",
       "    .dataframe tbody tr th:only-of-type {\n",
       "        vertical-align: middle;\n",
       "    }\n",
       "\n",
       "    .dataframe tbody tr th {\n",
       "        vertical-align: top;\n",
       "    }\n",
       "\n",
       "    .dataframe thead th {\n",
       "        text-align: right;\n",
       "    }\n",
       "</style>\n",
       "<table border=\"1\" class=\"dataframe\">\n",
       "  <thead>\n",
       "    <tr style=\"text-align: right;\">\n",
       "      <th></th>\n",
       "      <th>Open*</th>\n",
       "      <th>High</th>\n",
       "      <th>Low</th>\n",
       "      <th>Close**</th>\n",
       "      <th>Volume</th>\n",
       "      <th>Market Cap</th>\n",
       "      <th>Estimated TWh per Year</th>\n",
       "      <th>Minimum TWh per Year</th>\n",
       "    </tr>\n",
       "  </thead>\n",
       "  <tbody>\n",
       "    <tr>\n",
       "      <th>count</th>\n",
       "      <td>56.000000</td>\n",
       "      <td>56.000000</td>\n",
       "      <td>56.000000</td>\n",
       "      <td>56.00000</td>\n",
       "      <td>5.600000e+01</td>\n",
       "      <td>5.600000e+01</td>\n",
       "      <td>56.000000</td>\n",
       "      <td>55.000000</td>\n",
       "    </tr>\n",
       "    <tr>\n",
       "      <th>mean</th>\n",
       "      <td>3739.767679</td>\n",
       "      <td>3854.625536</td>\n",
       "      <td>3632.662143</td>\n",
       "      <td>3758.05875</td>\n",
       "      <td>1.897201e+10</td>\n",
       "      <td>4.432721e+11</td>\n",
       "      <td>78.687118</td>\n",
       "      <td>13.000513</td>\n",
       "    </tr>\n",
       "    <tr>\n",
       "      <th>std</th>\n",
       "      <td>561.003391</td>\n",
       "      <td>556.457284</td>\n",
       "      <td>569.054877</td>\n",
       "      <td>573.73352</td>\n",
       "      <td>3.861070e+09</td>\n",
       "      <td>6.844003e+10</td>\n",
       "      <td>4.392767</td>\n",
       "      <td>0.687520</td>\n",
       "    </tr>\n",
       "    <tr>\n",
       "      <th>min</th>\n",
       "      <td>2763.210000</td>\n",
       "      <td>2946.880000</td>\n",
       "      <td>2676.410000</td>\n",
       "      <td>2764.43000</td>\n",
       "      <td>1.270704e+10</td>\n",
       "      <td>3.251530e+11</td>\n",
       "      <td>71.744496</td>\n",
       "      <td>11.909611</td>\n",
       "    </tr>\n",
       "    <tr>\n",
       "      <th>25%</th>\n",
       "      <td>3388.522500</td>\n",
       "      <td>3460.710000</td>\n",
       "      <td>3285.490000</td>\n",
       "      <td>3388.79000</td>\n",
       "      <td>1.612850e+10</td>\n",
       "      <td>3.991143e+11</td>\n",
       "      <td>74.959203</td>\n",
       "      <td>12.428050</td>\n",
       "    </tr>\n",
       "    <tr>\n",
       "      <th>50%</th>\n",
       "      <td>3609.015000</td>\n",
       "      <td>3746.285000</td>\n",
       "      <td>3569.055000</td>\n",
       "      <td>3677.48000</td>\n",
       "      <td>1.826241e+10</td>\n",
       "      <td>4.337528e+11</td>\n",
       "      <td>78.371532</td>\n",
       "      <td>12.884989</td>\n",
       "    </tr>\n",
       "    <tr>\n",
       "      <th>75%</th>\n",
       "      <td>4183.230000</td>\n",
       "      <td>4315.885000</td>\n",
       "      <td>4080.727500</td>\n",
       "      <td>4235.24000</td>\n",
       "      <td>2.086734e+10</td>\n",
       "      <td>5.001237e+11</td>\n",
       "      <td>82.266667</td>\n",
       "      <td>13.540218</td>\n",
       "    </tr>\n",
       "    <tr>\n",
       "      <th>max</th>\n",
       "      <td>4810.070000</td>\n",
       "      <td>4859.500000</td>\n",
       "      <td>4718.040000</td>\n",
       "      <td>4812.09000</td>\n",
       "      <td>3.040506e+10</td>\n",
       "      <td>5.690943e+11</td>\n",
       "      <td>86.932892</td>\n",
       "      <td>14.449464</td>\n",
       "    </tr>\n",
       "  </tbody>\n",
       "</table>\n",
       "</div>"
      ],
      "text/plain": [
       "             Open*         High          Low     Close**        Volume  \\\n",
       "count    56.000000    56.000000    56.000000    56.00000  5.600000e+01   \n",
       "mean   3739.767679  3854.625536  3632.662143  3758.05875  1.897201e+10   \n",
       "std     561.003391   556.457284   569.054877   573.73352  3.861070e+09   \n",
       "min    2763.210000  2946.880000  2676.410000  2764.43000  1.270704e+10   \n",
       "25%    3388.522500  3460.710000  3285.490000  3388.79000  1.612850e+10   \n",
       "50%    3609.015000  3746.285000  3569.055000  3677.48000  1.826241e+10   \n",
       "75%    4183.230000  4315.885000  4080.727500  4235.24000  2.086734e+10   \n",
       "max    4810.070000  4859.500000  4718.040000  4812.09000  3.040506e+10   \n",
       "\n",
       "         Market Cap  Estimated TWh per Year  Minimum TWh per Year  \n",
       "count  5.600000e+01               56.000000             55.000000  \n",
       "mean   4.432721e+11               78.687118             13.000513  \n",
       "std    6.844003e+10                4.392767              0.687520  \n",
       "min    3.251530e+11               71.744496             11.909611  \n",
       "25%    3.991143e+11               74.959203             12.428050  \n",
       "50%    4.337528e+11               78.371532             12.884989  \n",
       "75%    5.001237e+11               82.266667             13.540218  \n",
       "max    5.690943e+11               86.932892             14.449464  "
      ]
     },
     "execution_count": 13,
     "metadata": {},
     "output_type": "execute_result"
    }
   ],
   "source": [
    "df_eth.describe()"
   ]
  },
  {
   "cell_type": "code",
   "execution_count": 9,
   "metadata": {},
   "outputs": [
    {
     "data": {
      "image/png": "[encoded data removed]",
      "text/plain": [
       "<Figure size 432x288 with 2 Axes>"
      ]
     },
     "metadata": {
      "needs_background": "light"
     },
     "output_type": "display_data"
    }
   ],
   "source": [
    "#correlation matrix\n",
    "corrMatrix = df_eth.corr()\n",
    "sn.heatmap(corrMatrix, annot=True)\n",
    "plt.show()"
   ]
  },
  {
   "cell_type": "code",
   "execution_count": null,
   "metadata": {
    "scrolled": true
   },
   "outputs": [],
   "source": [
    "#TODO: \n",
    "## Different graphes (i.e.: distribution of data, histograms, boxplots,...)\n",
    "## ..."
   ]
  }
 ],
 "metadata": {
  "kernelspec": {
   "display_name": "Python 3",
   "language": "python",
   "name": "python3"
  },
  "language_info": {
   "codemirror_mode": {
    "name": "ipython",
    "version": 3
   },
   "file_extension": ".py",
   "mimetype": "text/x-python",
   "name": "python",
   "nbconvert_exporter": "python",
   "pygments_lexer": "ipython3",
   "version": "3.6.7"
  }
 },
 "nbformat": 4,
 "nbformat_minor": 2
}
