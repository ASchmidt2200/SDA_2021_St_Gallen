{
 "cells": [
  {
   "cell_type": "code",
   "execution_count": 1,
   "id": "933d5e91-765b-409a-a66f-401781dd0d6b",
   "metadata": {},
   "outputs": [],
   "source": [
    "import os\n",
    "#Change working directory\n",
    "os.chdir('/Users/aleksandrabahareva/Downloads')"
   ]
  },
  {
   "cell_type": "code",
   "execution_count": 2,
   "id": "87e521dd-0b96-4418-b9f5-4f7af4cb3cba",
   "metadata": {},
   "outputs": [],
   "source": [
    "#packages\n",
    "import pandas as pd\n",
    "import numpy as np\n",
    "import seaborn as sn\n",
    "import matplotlib.pyplot as plt\n",
    "from statsmodels.graphics.tsaplots import plot_acf, plot_pacf\n",
    "from statsmodels.tsa.statespace.varmax import VARMAX\n",
    "from statsmodels.tsa.api import VAR\n",
    "from statsmodels.tsa.stattools import grangercausalitytests, adfuller\n",
    "from tqdm import tqdm_notebook\n",
    "from itertools import product\n",
    "import matplotlib.pyplot as plt\n",
    "import statsmodels.api as sm\n",
    "from sklearn.metrics import mean_squared_error\n",
    "import math \n",
    "from statistics import mean\n",
    "\n",
    "import warnings\n",
    "warnings.filterwarnings('ignore')"
   ]
  },
  {
   "cell_type": "code",
   "execution_count": 7,
   "id": "dd535f8d-2b2a-4b8a-a3ae-8647b0be9370",
   "metadata": {},
   "outputs": [],
   "source": [
    "df_merged = pd.read_csv('df_merged.csv', parse_dates=['Date'], index_col='Date')"
   ]
  },
  {
   "cell_type": "code",
   "execution_count": 8,
   "id": "33b82b0c-512e-4305-adfd-1eba1b8f94b2",
   "metadata": {},
   "outputs": [
    {
     "data": {
      "text/html": [
       "<div>\n",
       "<style scoped>\n",
       "    .dataframe tbody tr th:only-of-type {\n",
       "        vertical-align: middle;\n",
       "    }\n",
       "\n",
       "    .dataframe tbody tr th {\n",
       "        vertical-align: top;\n",
       "    }\n",
       "\n",
       "    .dataframe thead th {\n",
       "        text-align: right;\n",
       "    }\n",
       "</style>\n",
       "<table border=\"1\" class=\"dataframe\">\n",
       "  <thead>\n",
       "    <tr style=\"text-align: right;\">\n",
       "      <th></th>\n",
       "      <th>Unnamed: 0</th>\n",
       "      <th>Energy GW</th>\n",
       "      <th>BTC Price</th>\n",
       "      <th>BTC Volume</th>\n",
       "      <th>Fear Index</th>\n",
       "      <th>Fear Classification</th>\n",
       "      <th>S&amp;P</th>\n",
       "      <th>Electricity Price NY</th>\n",
       "    </tr>\n",
       "    <tr>\n",
       "      <th>Date</th>\n",
       "      <th></th>\n",
       "      <th></th>\n",
       "      <th></th>\n",
       "      <th></th>\n",
       "      <th></th>\n",
       "      <th></th>\n",
       "      <th></th>\n",
       "      <th></th>\n",
       "    </tr>\n",
       "  </thead>\n",
       "  <tbody>\n",
       "    <tr>\n",
       "      <th>2018-02-01</th>\n",
       "      <td>395</td>\n",
       "      <td>4.545488</td>\n",
       "      <td>9170.540039</td>\n",
       "      <td>9.959400e+09</td>\n",
       "      <td>30.0</td>\n",
       "      <td>Fear</td>\n",
       "      <td>2821.98</td>\n",
       "      <td>41.75</td>\n",
       "    </tr>\n",
       "    <tr>\n",
       "      <th>2018-02-02</th>\n",
       "      <td>396</td>\n",
       "      <td>4.549894</td>\n",
       "      <td>8830.750000</td>\n",
       "      <td>1.272690e+10</td>\n",
       "      <td>15.0</td>\n",
       "      <td>Extreme Fear</td>\n",
       "      <td>2762.13</td>\n",
       "      <td>73.63</td>\n",
       "    </tr>\n",
       "    <tr>\n",
       "      <th>2018-02-03</th>\n",
       "      <td>397</td>\n",
       "      <td>4.505991</td>\n",
       "      <td>9174.910156</td>\n",
       "      <td>7.263790e+09</td>\n",
       "      <td>40.0</td>\n",
       "      <td>Fear</td>\n",
       "      <td>2724.40</td>\n",
       "      <td>55.11</td>\n",
       "    </tr>\n",
       "    <tr>\n",
       "      <th>2018-02-04</th>\n",
       "      <td>398</td>\n",
       "      <td>4.537312</td>\n",
       "      <td>8277.009766</td>\n",
       "      <td>7.073550e+09</td>\n",
       "      <td>24.0</td>\n",
       "      <td>Extreme Fear</td>\n",
       "      <td>2686.67</td>\n",
       "      <td>39.05</td>\n",
       "    </tr>\n",
       "    <tr>\n",
       "      <th>2018-02-05</th>\n",
       "      <td>399</td>\n",
       "      <td>4.639257</td>\n",
       "      <td>6955.270020</td>\n",
       "      <td>9.285290e+09</td>\n",
       "      <td>11.0</td>\n",
       "      <td>Extreme Fear</td>\n",
       "      <td>2648.94</td>\n",
       "      <td>44.81</td>\n",
       "    </tr>\n",
       "  </tbody>\n",
       "</table>\n",
       "</div>"
      ],
      "text/plain": [
       "            Unnamed: 0  Energy GW    BTC Price    BTC Volume  Fear Index  \\\n",
       "Date                                                                       \n",
       "2018-02-01         395   4.545488  9170.540039  9.959400e+09        30.0   \n",
       "2018-02-02         396   4.549894  8830.750000  1.272690e+10        15.0   \n",
       "2018-02-03         397   4.505991  9174.910156  7.263790e+09        40.0   \n",
       "2018-02-04         398   4.537312  8277.009766  7.073550e+09        24.0   \n",
       "2018-02-05         399   4.639257  6955.270020  9.285290e+09        11.0   \n",
       "\n",
       "           Fear Classification      S&P  Electricity Price NY  \n",
       "Date                                                           \n",
       "2018-02-01                Fear  2821.98                 41.75  \n",
       "2018-02-02        Extreme Fear  2762.13                 73.63  \n",
       "2018-02-03                Fear  2724.40                 55.11  \n",
       "2018-02-04        Extreme Fear  2686.67                 39.05  \n",
       "2018-02-05        Extreme Fear  2648.94                 44.81  "
      ]
     },
     "execution_count": 8,
     "metadata": {},
     "output_type": "execute_result"
    }
   ],
   "source": [
    "df_merged.head()"
   ]
  },
  {
   "cell_type": "code",
   "execution_count": 47,
   "id": "e4329f3d-8c8b-4604-8ff9-1443d825d905",
   "metadata": {},
   "outputs": [
    {
     "name": "stdout",
     "output_type": "stream",
     "text": [
      "Energy GW\n",
      "ADF Statistic: -7.6258346960119825\n",
      "p-value: 2.0699496465251413e-11\n",
      "\n",
      "---------------------\n",
      "\n",
      "BTC Price\n",
      "ADF Statistic: -7.750494818444608\n",
      "p-value: 1.0050490018084839e-11\n",
      "\n",
      "---------------------\n",
      "\n",
      "BTC Volume\n",
      "ADF Statistic: -13.574341688789431\n",
      "p-value: 2.1841921050371707e-25\n",
      "\n",
      "---------------------\n",
      "\n",
      "Fear Index\n",
      "ADF Statistic: -31.734379306531032\n",
      "p-value: 0.0\n",
      "\n",
      "---------------------\n",
      "\n",
      "S&P\n",
      "ADF Statistic: -7.800117241170156\n",
      "p-value: 7.532482413081392e-12\n",
      "\n",
      "---------------------\n",
      "\n",
      "Electricity Price NY\n",
      "ADF Statistic: -13.850948626939475\n",
      "p-value: 7.006893988524071e-26\n",
      "\n",
      "---------------------\n",
      "\n"
     ]
    }
   ],
   "source": [
    "#Dickey–Fuller test. Data is stationary.\n",
    "ad_fuller_result_1 = adfuller(df_merged[\"Energy GW\"].diff()[1:])\n",
    "\n",
    "print('Energy GW')\n",
    "print(f'ADF Statistic: {ad_fuller_result_1[0]}')\n",
    "print(f'p-value: {ad_fuller_result_1[1]}')\n",
    "\n",
    "print('\\n---------------------\\n')\n",
    "\n",
    "ad_fuller_result_2 = adfuller(df_merged[\"BTC Price\"].diff()[1:])\n",
    "\n",
    "print('BTC Price')\n",
    "print(f'ADF Statistic: {ad_fuller_result_2[0]}')\n",
    "print(f'p-value: {ad_fuller_result_2[1]}')\n",
    "\n",
    "print('\\n---------------------\\n')\n",
    "\n",
    "ad_fuller_result_3 = adfuller(df_merged[\"BTC Volume\"].diff()[1:])\n",
    "\n",
    "print('BTC Volume')\n",
    "print(f'ADF Statistic: {ad_fuller_result_3[0]}')\n",
    "print(f'p-value: {ad_fuller_result_3[1]}')\n",
    "\n",
    "print('\\n---------------------\\n')\n",
    "\n",
    "ad_fuller_result_4 = adfuller(df_merged[\"Fear Index\"].diff()[1:])\n",
    "\n",
    "print('Fear Index')\n",
    "print(f'ADF Statistic: {ad_fuller_result_4[0]}')\n",
    "print(f'p-value: {ad_fuller_result_4[1]}')\n",
    "\n",
    "print('\\n---------------------\\n')\n",
    "\n",
    "ad_fuller_result_5 = adfuller(df_merged[\"S&P\"].diff()[1:])\n",
    "\n",
    "print('S&P')\n",
    "print(f'ADF Statistic: {ad_fuller_result_5[0]}')\n",
    "print(f'p-value: {ad_fuller_result_5[1]}')\n",
    "\n",
    "print('\\n---------------------\\n')\n",
    "\n",
    "ad_fuller_result_6 = adfuller(df_merged[\"Electricity Price NY\"].diff()[1:])\n",
    "\n",
    "print('Electricity Price NY')\n",
    "print(f'ADF Statistic: {ad_fuller_result_6[0]}')\n",
    "print(f'p-value: {ad_fuller_result_6[1]}')\n",
    "\n",
    "print('\\n---------------------\\n')"
   ]
  },
  {
   "cell_type": "code",
   "execution_count": 48,
   "id": "bbe1ac1b-cdb4-4e98-a0c9-32fada8845e6",
   "metadata": {},
   "outputs": [
    {
     "name": "stdout",
     "output_type": "stream",
     "text": [
      "Energy GW causes BTC Price?\n",
      "\n",
      "------------------\n",
      "\n",
      "Granger Causality\n",
      "number of lags (no zero) 1\n",
      "ssr based F test:         F=0.7557  , p=0.3848  , df_denom=1389, df_num=1\n",
      "ssr based chi2 test:   chi2=0.7573  , p=0.3842  , df=1\n",
      "likelihood ratio test: chi2=0.7571  , p=0.3842  , df=1\n",
      "parameter F test:         F=0.7557  , p=0.3848  , df_denom=1389, df_num=1\n",
      "\n",
      "Granger Causality\n",
      "number of lags (no zero) 2\n",
      "ssr based F test:         F=2.3122  , p=0.0994  , df_denom=1386, df_num=2\n",
      "ssr based chi2 test:   chi2=4.6411  , p=0.0982  , df=2\n",
      "likelihood ratio test: chi2=4.6333  , p=0.0986  , df=2\n",
      "parameter F test:         F=2.3122  , p=0.0994  , df_denom=1386, df_num=2\n",
      "\n",
      "Granger Causality\n",
      "number of lags (no zero) 3\n",
      "ssr based F test:         F=4.3464  , p=0.0047  , df_denom=1383, df_num=3\n",
      "ssr based chi2 test:   chi2=13.1052 , p=0.0044  , df=3\n",
      "likelihood ratio test: chi2=13.0438 , p=0.0045  , df=3\n",
      "parameter F test:         F=4.3464  , p=0.0047  , df_denom=1383, df_num=3\n",
      "\n",
      "Granger Causality\n",
      "number of lags (no zero) 4\n",
      "ssr based F test:         F=4.0688  , p=0.0028  , df_denom=1380, df_num=4\n",
      "ssr based chi2 test:   chi2=16.3813 , p=0.0025  , df=4\n",
      "likelihood ratio test: chi2=16.2854 , p=0.0027  , df=4\n",
      "parameter F test:         F=4.0688  , p=0.0028  , df_denom=1380, df_num=4\n",
      "\\BTC Price causes Energy GW?\n",
      "\n",
      "------------------\n",
      "\n",
      "Granger Causality\n",
      "number of lags (no zero) 1\n",
      "ssr based F test:         F=8.3138  , p=0.0040  , df_denom=1389, df_num=1\n",
      "ssr based chi2 test:   chi2=8.3318  , p=0.0039  , df=1\n",
      "likelihood ratio test: chi2=8.3069  , p=0.0039  , df=1\n",
      "parameter F test:         F=8.3138  , p=0.0040  , df_denom=1389, df_num=1\n",
      "\n",
      "Granger Causality\n",
      "number of lags (no zero) 2\n",
      "ssr based F test:         F=7.9191  , p=0.0004  , df_denom=1386, df_num=2\n",
      "ssr based chi2 test:   chi2=15.8953 , p=0.0004  , df=2\n",
      "likelihood ratio test: chi2=15.8052 , p=0.0004  , df=2\n",
      "parameter F test:         F=7.9191  , p=0.0004  , df_denom=1386, df_num=2\n",
      "\n",
      "Granger Causality\n",
      "number of lags (no zero) 3\n",
      "ssr based F test:         F=7.3028  , p=0.0001  , df_denom=1383, df_num=3\n",
      "ssr based chi2 test:   chi2=22.0193 , p=0.0001  , df=3\n",
      "likelihood ratio test: chi2=21.8467 , p=0.0001  , df=3\n",
      "parameter F test:         F=7.3028  , p=0.0001  , df_denom=1383, df_num=3\n",
      "\n",
      "Granger Causality\n",
      "number of lags (no zero) 4\n",
      "ssr based F test:         F=5.3182  , p=0.0003  , df_denom=1380, df_num=4\n",
      "ssr based chi2 test:   chi2=21.4116 , p=0.0003  , df=4\n",
      "likelihood ratio test: chi2=21.2483 , p=0.0003  , df=4\n",
      "parameter F test:         F=5.3182  , p=0.0003  , df_denom=1380, df_num=4\n"
     ]
    }
   ],
   "source": [
    "#Granger Causality test. If p-value < 0.05 the hypothesis is true. \n",
    "# Energy GW causes BTC Price in lags 3 and 4.\n",
    "print('Energy GW causes BTC Price?\\n')\n",
    "print('------------------')\n",
    "granger_1 = grangercausalitytests(df_merged[['BTC Price', 'Energy GW']], 4)\n",
    "\n",
    "#BTC Price causes Energy GW.\n",
    "print('\\BTC Price causes Energy GW?\\n')\n",
    "print('------------------')\n",
    "granger_2 = grangercausalitytests(df_merged[['Energy GW', 'BTC Price']], 4)"
   ]
  },
  {
   "cell_type": "code",
   "execution_count": 49,
   "id": "51a1d440-a14b-4c1d-bca5-e4649c568014",
   "metadata": {},
   "outputs": [
    {
     "name": "stdout",
     "output_type": "stream",
     "text": [
      "Energy GW causes BTC Volume?\n",
      "\n",
      "------------------\n",
      "\n",
      "Granger Causality\n",
      "number of lags (no zero) 1\n",
      "ssr based F test:         F=255.0450, p=0.0000  , df_denom=1389, df_num=1\n",
      "ssr based chi2 test:   chi2=255.5958, p=0.0000  , df=1\n",
      "likelihood ratio test: chi2=234.6572, p=0.0000  , df=1\n",
      "parameter F test:         F=255.0450, p=0.0000  , df_denom=1389, df_num=1\n",
      "\n",
      "Granger Causality\n",
      "number of lags (no zero) 2\n",
      "ssr based F test:         F=62.2432 , p=0.0000  , df_denom=1386, df_num=2\n",
      "ssr based chi2 test:   chi2=124.9355, p=0.0000  , df=2\n",
      "likelihood ratio test: chi2=119.6397, p=0.0000  , df=2\n",
      "parameter F test:         F=62.2432 , p=0.0000  , df_denom=1386, df_num=2\n",
      "\n",
      "Granger Causality\n",
      "number of lags (no zero) 3\n",
      "ssr based F test:         F=22.7807 , p=0.0000  , df_denom=1383, df_num=3\n",
      "ssr based chi2 test:   chi2=68.6880 , p=0.0000  , df=3\n",
      "likelihood ratio test: chi2=67.0448 , p=0.0000  , df=3\n",
      "parameter F test:         F=22.7807 , p=0.0000  , df_denom=1383, df_num=3\n",
      "\n",
      "Granger Causality\n",
      "number of lags (no zero) 4\n",
      "ssr based F test:         F=12.6476 , p=0.0000  , df_denom=1380, df_num=4\n",
      "ssr based chi2 test:   chi2=50.9203 , p=0.0000  , df=4\n",
      "likelihood ratio test: chi2=50.0091 , p=0.0000  , df=4\n",
      "parameter F test:         F=12.6476 , p=0.0000  , df_denom=1380, df_num=4\n",
      "\\BTC Volume causes Energy GW?\n",
      "\n",
      "------------------\n",
      "\n",
      "Granger Causality\n",
      "number of lags (no zero) 1\n",
      "ssr based F test:         F=0.3695  , p=0.5434  , df_denom=1389, df_num=1\n",
      "ssr based chi2 test:   chi2=0.3703  , p=0.5428  , df=1\n",
      "likelihood ratio test: chi2=0.3703  , p=0.5429  , df=1\n",
      "parameter F test:         F=0.3695  , p=0.5434  , df_denom=1389, df_num=1\n",
      "\n",
      "Granger Causality\n",
      "number of lags (no zero) 2\n",
      "ssr based F test:         F=0.1446  , p=0.8654  , df_denom=1386, df_num=2\n",
      "ssr based chi2 test:   chi2=0.2901  , p=0.8650  , df=2\n",
      "likelihood ratio test: chi2=0.2901  , p=0.8650  , df=2\n",
      "parameter F test:         F=0.1445  , p=0.8654  , df_denom=1386, df_num=2\n",
      "\n",
      "Granger Causality\n",
      "number of lags (no zero) 3\n",
      "ssr based F test:         F=0.4237  , p=0.7360  , df_denom=1383, df_num=3\n",
      "ssr based chi2 test:   chi2=1.2776  , p=0.7345  , df=3\n",
      "likelihood ratio test: chi2=1.2770  , p=0.7346  , df=3\n",
      "parameter F test:         F=0.4238  , p=0.7360  , df_denom=1383, df_num=3\n",
      "\n",
      "Granger Causality\n",
      "number of lags (no zero) 4\n",
      "ssr based F test:         F=1.1645  , p=0.3247  , df_denom=1380, df_num=4\n",
      "ssr based chi2 test:   chi2=4.6883  , p=0.3208  , df=4\n",
      "likelihood ratio test: chi2=4.6804  , p=0.3217  , df=4\n",
      "parameter F test:         F=1.1646  , p=0.3247  , df_denom=1380, df_num=4\n"
     ]
    }
   ],
   "source": [
    "#Granger Causality test. If p-value < 0.05 the hypothesis is true. \n",
    "#Energy GW causes BTC Volume.\n",
    "print('Energy GW causes BTC Volume?\\n')\n",
    "print('------------------')\n",
    "granger_3 = grangercausalitytests(df_merged[['BTC Volume', 'Energy GW']], 4)\n",
    "\n",
    "#BTC Volume does not cause Energy GW.\n",
    "print('\\BTC Volume causes Energy GW?\\n')\n",
    "print('------------------')\n",
    "granger_4 = grangercausalitytests(df_merged[['Energy GW', 'BTC Volume']], 4)"
   ]
  },
  {
   "cell_type": "code",
   "execution_count": 50,
   "id": "4c7c37d2-158e-405f-b0ac-c65bbdab7405",
   "metadata": {},
   "outputs": [
    {
     "name": "stdout",
     "output_type": "stream",
     "text": [
      "Energy GW causes Fear Index?\n",
      "\n",
      "------------------\n",
      "\n",
      "Granger Causality\n",
      "number of lags (no zero) 1\n",
      "ssr based F test:         F=2.2010  , p=0.1382  , df_denom=1389, df_num=1\n",
      "ssr based chi2 test:   chi2=2.2057  , p=0.1375  , df=1\n",
      "likelihood ratio test: chi2=2.2040  , p=0.1377  , df=1\n",
      "parameter F test:         F=2.2010  , p=0.1382  , df_denom=1389, df_num=1\n",
      "\n",
      "Granger Causality\n",
      "number of lags (no zero) 2\n",
      "ssr based F test:         F=3.1240  , p=0.0443  , df_denom=1386, df_num=2\n",
      "ssr based chi2 test:   chi2=6.2706  , p=0.0435  , df=2\n",
      "likelihood ratio test: chi2=6.2565  , p=0.0438  , df=2\n",
      "parameter F test:         F=3.1240  , p=0.0443  , df_denom=1386, df_num=2\n",
      "\n",
      "Granger Causality\n",
      "number of lags (no zero) 3\n",
      "ssr based F test:         F=1.9362  , p=0.1218  , df_denom=1383, df_num=3\n",
      "ssr based chi2 test:   chi2=5.8381  , p=0.1198  , df=3\n",
      "likelihood ratio test: chi2=5.8259  , p=0.1204  , df=3\n",
      "parameter F test:         F=1.9362  , p=0.1218  , df_denom=1383, df_num=3\n",
      "\n",
      "Granger Causality\n",
      "number of lags (no zero) 4\n",
      "ssr based F test:         F=1.3967  , p=0.2328  , df_denom=1380, df_num=4\n",
      "ssr based chi2 test:   chi2=5.6230  , p=0.2291  , df=4\n",
      "likelihood ratio test: chi2=5.6117  , p=0.2301  , df=4\n",
      "parameter F test:         F=1.3967  , p=0.2328  , df_denom=1380, df_num=4\n",
      "\\Fear Index causes Energy GW?\n",
      "\n",
      "------------------\n",
      "\n",
      "Granger Causality\n",
      "number of lags (no zero) 1\n",
      "ssr based F test:         F=28.4905 , p=0.0000  , df_denom=1389, df_num=1\n",
      "ssr based chi2 test:   chi2=28.5521 , p=0.0000  , df=1\n",
      "likelihood ratio test: chi2=28.2632 , p=0.0000  , df=1\n",
      "parameter F test:         F=28.4905 , p=0.0000  , df_denom=1389, df_num=1\n",
      "\n",
      "Granger Causality\n",
      "number of lags (no zero) 2\n",
      "ssr based F test:         F=11.1409 , p=0.0000  , df_denom=1386, df_num=2\n",
      "ssr based chi2 test:   chi2=22.3621 , p=0.0000  , df=2\n",
      "likelihood ratio test: chi2=22.1843 , p=0.0000  , df=2\n",
      "parameter F test:         F=11.1409 , p=0.0000  , df_denom=1386, df_num=2\n",
      "\n",
      "Granger Causality\n",
      "number of lags (no zero) 3\n",
      "ssr based F test:         F=6.3920  , p=0.0003  , df_denom=1383, df_num=3\n",
      "ssr based chi2 test:   chi2=19.2729 , p=0.0002  , df=3\n",
      "likelihood ratio test: chi2=19.1406 , p=0.0003  , df=3\n",
      "parameter F test:         F=6.3920  , p=0.0003  , df_denom=1383, df_num=3\n",
      "\n",
      "Granger Causality\n",
      "number of lags (no zero) 4\n",
      "ssr based F test:         F=4.2000  , p=0.0022  , df_denom=1380, df_num=4\n",
      "ssr based chi2 test:   chi2=16.9098 , p=0.0020  , df=4\n",
      "likelihood ratio test: chi2=16.8077 , p=0.0021  , df=4\n",
      "parameter F test:         F=4.2000  , p=0.0022  , df_denom=1380, df_num=4\n"
     ]
    }
   ],
   "source": [
    "#Granger Causality test. If p-value < 0.05 the hypothesis is true. \n",
    "#Energy GW causes Fear Index in lag 2.\n",
    "print('Energy GW causes Fear Index?\\n')\n",
    "print('------------------')\n",
    "granger_5 = grangercausalitytests(df_merged[['Fear Index', 'Energy GW']], 4)\n",
    "\n",
    "#Fear Index causes Energy GW.\n",
    "print('\\Fear Index causes Energy GW?\\n')\n",
    "print('------------------')\n",
    "granger_6 = grangercausalitytests(df_merged[['Energy GW', 'Fear Index']], 4)"
   ]
  },
  {
   "cell_type": "code",
   "execution_count": 51,
   "id": "cffe020a-702f-44a0-a731-80838295cb6e",
   "metadata": {},
   "outputs": [
    {
     "name": "stdout",
     "output_type": "stream",
     "text": [
      "Energy GW causes S&P?\n",
      "\n",
      "------------------\n",
      "\n",
      "Granger Causality\n",
      "number of lags (no zero) 1\n",
      "ssr based F test:         F=0.0384  , p=0.8447  , df_denom=1389, df_num=1\n",
      "ssr based chi2 test:   chi2=0.0385  , p=0.8445  , df=1\n",
      "likelihood ratio test: chi2=0.0385  , p=0.8445  , df=1\n",
      "parameter F test:         F=0.0384  , p=0.8447  , df_denom=1389, df_num=1\n",
      "\n",
      "Granger Causality\n",
      "number of lags (no zero) 2\n",
      "ssr based F test:         F=1.6471  , p=0.1930  , df_denom=1386, df_num=2\n",
      "ssr based chi2 test:   chi2=3.3061  , p=0.1915  , df=2\n",
      "likelihood ratio test: chi2=3.3021  , p=0.1918  , df=2\n",
      "parameter F test:         F=1.6471  , p=0.1930  , df_denom=1386, df_num=2\n",
      "\n",
      "Granger Causality\n",
      "number of lags (no zero) 3\n",
      "ssr based F test:         F=1.4561  , p=0.2248  , df_denom=1383, df_num=3\n",
      "ssr based chi2 test:   chi2=4.3904  , p=0.2223  , df=3\n",
      "likelihood ratio test: chi2=4.3835  , p=0.2229  , df=3\n",
      "parameter F test:         F=1.4561  , p=0.2248  , df_denom=1383, df_num=3\n",
      "\n",
      "Granger Causality\n",
      "number of lags (no zero) 4\n",
      "ssr based F test:         F=1.2500  , p=0.2879  , df_denom=1380, df_num=4\n",
      "ssr based chi2 test:   chi2=5.0326  , p=0.2840  , df=4\n",
      "likelihood ratio test: chi2=5.0235  , p=0.2849  , df=4\n",
      "parameter F test:         F=1.2500  , p=0.2879  , df_denom=1380, df_num=4\n",
      "\\S&P causes Energy GW?\n",
      "\n",
      "------------------\n",
      "\n",
      "Granger Causality\n",
      "number of lags (no zero) 1\n",
      "ssr based F test:         F=9.7443  , p=0.0018  , df_denom=1389, df_num=1\n",
      "ssr based chi2 test:   chi2=9.7653  , p=0.0018  , df=1\n",
      "likelihood ratio test: chi2=9.7312  , p=0.0018  , df=1\n",
      "parameter F test:         F=9.7443  , p=0.0018  , df_denom=1389, df_num=1\n",
      "\n",
      "Granger Causality\n",
      "number of lags (no zero) 2\n",
      "ssr based F test:         F=7.4969  , p=0.0006  , df_denom=1386, df_num=2\n",
      "ssr based chi2 test:   chi2=15.0478 , p=0.0005  , df=2\n",
      "likelihood ratio test: chi2=14.9670 , p=0.0006  , df=2\n",
      "parameter F test:         F=7.4969  , p=0.0006  , df_denom=1386, df_num=2\n",
      "\n",
      "Granger Causality\n",
      "number of lags (no zero) 3\n",
      "ssr based F test:         F=4.8997  , p=0.0022  , df_denom=1383, df_num=3\n",
      "ssr based chi2 test:   chi2=14.7735 , p=0.0020  , df=3\n",
      "likelihood ratio test: chi2=14.6956 , p=0.0021  , df=3\n",
      "parameter F test:         F=4.8997  , p=0.0022  , df_denom=1383, df_num=3\n",
      "\n",
      "Granger Causality\n",
      "number of lags (no zero) 4\n",
      "ssr based F test:         F=4.5933  , p=0.0011  , df_denom=1380, df_num=4\n",
      "ssr based chi2 test:   chi2=18.4931 , p=0.0010  , df=4\n",
      "likelihood ratio test: chi2=18.3711 , p=0.0010  , df=4\n",
      "parameter F test:         F=4.5933  , p=0.0011  , df_denom=1380, df_num=4\n"
     ]
    }
   ],
   "source": [
    "#Granger Causality test. If p-value < 0.05 the hypothesis is true. \n",
    "#Energy GW does not cause S&P.\n",
    "print('Energy GW causes S&P?\\n')\n",
    "print('------------------')\n",
    "granger_7 = grangercausalitytests(df_merged[['S&P', 'Energy GW']], 4)\n",
    "\n",
    "#S&P causes Energy GW.\n",
    "print('\\S&P causes Energy GW?\\n')\n",
    "print('------------------')\n",
    "granger_8 = grangercausalitytests(df_merged[['Energy GW', 'S&P']], 4)"
   ]
  },
  {
   "cell_type": "code",
   "execution_count": 52,
   "id": "9b4088a5-d0d3-453c-898d-96edaba33a9d",
   "metadata": {},
   "outputs": [
    {
     "name": "stdout",
     "output_type": "stream",
     "text": [
      "Energy GW causes Electricity Price NY?\n",
      "\n",
      "------------------\n",
      "\n",
      "Granger Causality\n",
      "number of lags (no zero) 1\n",
      "ssr based F test:         F=5.8943  , p=0.0153  , df_denom=1389, df_num=1\n",
      "ssr based chi2 test:   chi2=5.9071  , p=0.0151  , df=1\n",
      "likelihood ratio test: chi2=5.8946  , p=0.0152  , df=1\n",
      "parameter F test:         F=5.8943  , p=0.0153  , df_denom=1389, df_num=1\n",
      "\n",
      "Granger Causality\n",
      "number of lags (no zero) 2\n",
      "ssr based F test:         F=4.5870  , p=0.0103  , df_denom=1386, df_num=2\n",
      "ssr based chi2 test:   chi2=9.2071  , p=0.0100  , df=2\n",
      "likelihood ratio test: chi2=9.1767  , p=0.0102  , df=2\n",
      "parameter F test:         F=4.5870  , p=0.0103  , df_denom=1386, df_num=2\n",
      "\n",
      "Granger Causality\n",
      "number of lags (no zero) 3\n",
      "ssr based F test:         F=2.3537  , p=0.0705  , df_denom=1383, df_num=3\n",
      "ssr based chi2 test:   chi2=7.0969  , p=0.0689  , df=3\n",
      "likelihood ratio test: chi2=7.0789  , p=0.0694  , df=3\n",
      "parameter F test:         F=2.3537  , p=0.0705  , df_denom=1383, df_num=3\n",
      "\n",
      "Granger Causality\n",
      "number of lags (no zero) 4\n",
      "ssr based F test:         F=1.6435  , p=0.1609  , df_denom=1380, df_num=4\n",
      "ssr based chi2 test:   chi2=6.6169  , p=0.1576  , df=4\n",
      "likelihood ratio test: chi2=6.6012  , p=0.1585  , df=4\n",
      "parameter F test:         F=1.6435  , p=0.1609  , df_denom=1380, df_num=4\n",
      "\\Electricity Price NY causes Energy GW?\n",
      "\n",
      "------------------\n",
      "\n",
      "Granger Causality\n",
      "number of lags (no zero) 1\n",
      "ssr based F test:         F=0.0491  , p=0.8248  , df_denom=1389, df_num=1\n",
      "ssr based chi2 test:   chi2=0.0492  , p=0.8245  , df=1\n",
      "likelihood ratio test: chi2=0.0492  , p=0.8245  , df=1\n",
      "parameter F test:         F=0.0491  , p=0.8248  , df_denom=1389, df_num=1\n",
      "\n",
      "Granger Causality\n",
      "number of lags (no zero) 2\n",
      "ssr based F test:         F=1.1103  , p=0.3298  , df_denom=1386, df_num=2\n",
      "ssr based chi2 test:   chi2=2.2286  , p=0.3281  , df=2\n",
      "likelihood ratio test: chi2=2.2268  , p=0.3284  , df=2\n",
      "parameter F test:         F=1.1103  , p=0.3298  , df_denom=1386, df_num=2\n",
      "\n",
      "Granger Causality\n",
      "number of lags (no zero) 3\n",
      "ssr based F test:         F=1.1261  , p=0.3373  , df_denom=1383, df_num=3\n",
      "ssr based chi2 test:   chi2=3.3954  , p=0.3346  , df=3\n",
      "likelihood ratio test: chi2=3.3912  , p=0.3351  , df=3\n",
      "parameter F test:         F=1.1261  , p=0.3373  , df_denom=1383, df_num=3\n",
      "\n",
      "Granger Causality\n",
      "number of lags (no zero) 4\n",
      "ssr based F test:         F=0.9962  , p=0.4085  , df_denom=1380, df_num=4\n",
      "ssr based chi2 test:   chi2=4.0107  , p=0.4046  , df=4\n",
      "likelihood ratio test: chi2=4.0050  , p=0.4053  , df=4\n",
      "parameter F test:         F=0.9962  , p=0.4085  , df_denom=1380, df_num=4\n"
     ]
    }
   ],
   "source": [
    "#Granger Causality test. If p-value < 0.05 the hypothesis is true. \n",
    "#Energy GW causes Electricity Price NY in lags 1 and 2.\n",
    "print('Energy GW causes Electricity Price NY?\\n')\n",
    "print('------------------')\n",
    "granger_9 = grangercausalitytests(df_merged[['Electricity Price NY', 'Energy GW']], 4)\n",
    "\n",
    "#Electricity Price NY does not cause Energy GW.\n",
    "print('\\Electricity Price NY causes Energy GW?\\n')\n",
    "print('------------------')\n",
    "granger_10 = grangercausalitytests(df_merged[['Energy GW', 'Electricity Price NY']], 4)"
   ]
  },
  {
   "cell_type": "code",
   "execution_count": 193,
   "id": "da8a055f-b14b-4d22-be84-8b97d9074296",
   "metadata": {},
   "outputs": [],
   "source": [
    "df_merged1 = df_merged[['Energy GW', 'BTC Price']]"
   ]
  },
  {
   "cell_type": "code",
   "execution_count": 194,
   "id": "0d750cf0-6eb1-4538-8c68-c52820312cdd",
   "metadata": {},
   "outputs": [],
   "source": [
    "train_df1=df_merged1[:-30]\n",
    "test_df1=df_merged1[-30:]"
   ]
  },
  {
   "cell_type": "code",
   "execution_count": 195,
   "id": "7848ee7c-0e22-4efa-808d-d82a2c92851e",
   "metadata": {},
   "outputs": [],
   "source": [
    "model1 = VAR(train_df1.diff()[1:])"
   ]
  },
  {
   "cell_type": "code",
   "execution_count": 196,
   "id": "e067d9f2-53c1-4706-ab66-1399065a8c86",
   "metadata": {},
   "outputs": [
    {
     "name": "stdout",
     "output_type": "stream",
     "text": [
      " VAR Order Selection (* highlights the minimums)  \n",
      "==================================================\n",
      "       AIC         BIC         FPE         HQIC   \n",
      "--------------------------------------------------\n",
      "0        9.973       9.980   2.143e+04       9.975\n",
      "1        9.904       9.928   2.002e+04       9.913\n",
      "2        9.876       9.915   1.946e+04       9.891\n",
      "3        9.870       9.925   1.935e+04       9.891\n",
      "4        9.862       9.932   1.918e+04       9.888\n",
      "5        9.861       9.947   1.917e+04       9.893\n",
      "6        9.866       9.967   1.927e+04       9.904\n",
      "7        9.695       9.811   1.624e+04       9.739\n",
      "8        9.670       9.802   1.584e+04       9.720\n",
      "9        9.667       9.814   1.578e+04       9.722\n",
      "10       9.662       9.825   1.571e+04       9.723\n",
      "11       9.663       9.842   1.573e+04       9.730\n",
      "12       9.657       9.851   1.563e+04       9.729\n",
      "13       9.657       9.867   1.564e+04       9.736\n",
      "14       9.556      9.781*   1.413e+04       9.641\n",
      "15       9.544       9.784   1.396e+04      9.634*\n",
      "16       9.542       9.798   1.394e+04       9.638\n",
      "17       9.536       9.807   1.384e+04       9.637\n",
      "18       9.536       9.823   1.386e+04       9.644\n",
      "19       9.532       9.834   1.379e+04       9.645\n",
      "20      9.529*       9.847  1.375e+04*       9.648\n",
      "--------------------------------------------------\n"
     ]
    }
   ],
   "source": [
    "sorted_order1=model1.select_order(maxlags=20)\n",
    "print(sorted_order1.summary())\n",
    "#* shows where is the minimum parameter. The minimum BIC was found at lag number 14."
   ]
  },
  {
   "cell_type": "code",
   "execution_count": 197,
   "id": "8dceef22-8680-4794-a49d-46112e721c67",
   "metadata": {},
   "outputs": [],
   "source": [
    "var_model1 = VARMAX(train_df1, order=(14,0),enforce_stationarity= True)"
   ]
  },
  {
   "cell_type": "code",
   "execution_count": 198,
   "id": "f8c1a06a-cfe9-405a-a6e4-c6ecbdbf4c0e",
   "metadata": {},
   "outputs": [],
   "source": [
    "fitted_model1 = var_model1.fit(disp=False)"
   ]
  },
  {
   "cell_type": "code",
   "execution_count": 78,
   "id": "3263229d-d249-4621-a9a3-4aed139ab286",
   "metadata": {},
   "outputs": [],
   "source": [
    "#print(fitted_model1.summary())"
   ]
  },
  {
   "cell_type": "code",
   "execution_count": 199,
   "id": "9efce86b-f7e9-4e8e-9cbf-43e4585c5ba4",
   "metadata": {},
   "outputs": [],
   "source": [
    "n_forecast = 30\n",
    "start=len(train_df1)\n",
    "end=len(train_df1)+len(test_df1)-1\n",
    "predict1 = fitted_model1.get_prediction(start=start,end=end) #start=\"2021-10-29\",end=\"2021-11-27\"\n",
    "\n",
    "predictions1=predict1.predicted_mean"
   ]
  },
  {
   "cell_type": "code",
   "execution_count": 200,
   "id": "2193bb41-3091-4f23-9276-2f62e4b4f8d4",
   "metadata": {},
   "outputs": [],
   "source": [
    "predictions1.columns=['Energy GW predicted','BTC Price predicted']"
   ]
  },
  {
   "cell_type": "code",
   "execution_count": 201,
   "id": "e1ef527a-8545-4dd0-b20e-6af8c3f66177",
   "metadata": {},
   "outputs": [],
   "source": [
    "predictions1.index=df_merged.index[start:end+1]\n",
    "#print(predictions1)"
   ]
  },
  {
   "cell_type": "code",
   "execution_count": 202,
   "id": "576ccd97-5fde-4929-85ba-1257e3a8f4b7",
   "metadata": {},
   "outputs": [],
   "source": [
    "test_vs_pred1=pd.concat([test_df1['Energy GW'],predictions1['Energy GW predicted']],axis=1)"
   ]
  },
  {
   "cell_type": "code",
   "execution_count": 203,
   "id": "27241ad8-8bae-4ac3-952a-26222d1d4db0",
   "metadata": {},
   "outputs": [
    {
     "data": {
      "text/plain": [
       "Text(0.5, 1.0, 'Energy GW forecast using BTC Price historical data')"
      ]
     },
     "execution_count": 203,
     "metadata": {},
     "output_type": "execute_result"
    },
    {
     "data": {
      "image/png": "[encoded data removed]",
      "text/plain": [
       "<Figure size 864x360 with 1 Axes>"
      ]
     },
     "metadata": {
      "needs_background": "light"
     },
     "output_type": "display_data"
    }
   ],
   "source": [
    "test_vs_pred1.plot(figsize=(12,5))\n",
    "plt.title('Energy GW forecast using BTC Price historical data')"
   ]
  },
  {
   "cell_type": "code",
   "execution_count": 211,
   "id": "fdea2bdd-0db9-4447-b868-1b2fe37769a3",
   "metadata": {},
   "outputs": [
    {
     "name": "stdout",
     "output_type": "stream",
     "text": [
      "Mean value of Energy GW is : 13.236316957554166. Root Mean Squared Error is :1.5313210017586432\n"
     ]
    }
   ],
   "source": [
    "rmse_Energy_GW1=math.sqrt(mean_squared_error(predictions1['Energy GW predicted'],test_df1['Energy GW']))\n",
    "print('Mean value of Energy GW is : {}. Root Mean Squared Error is :{}'.format(mean(test_df1['Energy GW']),rmse_Energy_GW1))"
   ]
  },
  {
   "cell_type": "code",
   "execution_count": 100,
   "id": "0d795ba1-1704-45e5-a41a-4ba0b1800152",
   "metadata": {},
   "outputs": [],
   "source": [
    "df_merged2 = df_merged[['Energy GW', 'S&P']]"
   ]
  },
  {
   "cell_type": "code",
   "execution_count": 101,
   "id": "ddc43e8f-dfb1-480b-a5b9-5fc7e30bce18",
   "metadata": {},
   "outputs": [],
   "source": [
    "train_df2=df_merged2[:-30]\n",
    "test_df2=df_merged2[-30:]"
   ]
  },
  {
   "cell_type": "code",
   "execution_count": 102,
   "id": "a979b85f-d713-474e-92fa-7fc5cb2e298f",
   "metadata": {},
   "outputs": [],
   "source": [
    "model2 = VAR(train_df2.diff()[1:])"
   ]
  },
  {
   "cell_type": "code",
   "execution_count": 103,
   "id": "c1d06b3f-f134-4834-9269-31906ad5f4dd",
   "metadata": {},
   "outputs": [
    {
     "name": "stdout",
     "output_type": "stream",
     "text": [
      " VAR Order Selection (* highlights the minimums)  \n",
      "==================================================\n",
      "       AIC         BIC         FPE         HQIC   \n",
      "--------------------------------------------------\n",
      "0        3.004       3.012       20.17       3.007\n",
      "1        2.937       2.960       18.85       2.945\n",
      "2        2.918       2.956       18.50       2.932\n",
      "3        2.909       2.963       18.33       2.929\n",
      "4        2.897       2.967       18.12       2.923\n",
      "5        2.888       2.973       17.96       2.920\n",
      "6        2.887       2.988       17.95       2.925\n",
      "7        2.719       2.836       15.17       2.763\n",
      "8        2.686       2.818       14.67       2.735\n",
      "9        2.670       2.817       14.44       2.725\n",
      "10       2.670       2.833       14.45       2.731\n",
      "11       2.663       2.841       14.34       2.730\n",
      "12       2.666       2.859       14.38       2.738\n",
      "13       2.661       2.871       14.32       2.740\n",
      "14       2.564      2.789*       12.99      2.649*\n",
      "15       2.560       2.801       12.94       2.650\n",
      "16       2.561       2.817       12.95       2.657\n",
      "17       2.559       2.830       12.92       2.661\n",
      "18       2.560       2.847       12.94       2.668\n",
      "19       2.561       2.863       12.95       2.674\n",
      "20      2.556*       2.874      12.89*       2.675\n",
      "--------------------------------------------------\n"
     ]
    }
   ],
   "source": [
    "sorted_order2=model2.select_order(maxlags=20)\n",
    "print(sorted_order2.summary())\n",
    "#* shows where is the minimum parameter. The minimum BIC was found at lag number 14."
   ]
  },
  {
   "cell_type": "code",
   "execution_count": 104,
   "id": "624f88df-b539-4579-9b1b-db0f4a63ccc5",
   "metadata": {},
   "outputs": [],
   "source": [
    "var_model2 = VARMAX(train_df2, order=(14,0),enforce_stationarity= True)"
   ]
  },
  {
   "cell_type": "code",
   "execution_count": 105,
   "id": "a938bd2a-c5ff-458b-9098-9ce96617b7c2",
   "metadata": {},
   "outputs": [],
   "source": [
    "fitted_model2 = var_model2.fit(disp=False)"
   ]
  },
  {
   "cell_type": "code",
   "execution_count": 107,
   "id": "57fba96d-6891-43d8-bbc7-9f3b974d36ed",
   "metadata": {},
   "outputs": [],
   "source": [
    "#print(fitted_model2.summary())"
   ]
  },
  {
   "cell_type": "code",
   "execution_count": 108,
   "id": "af3229d1-944f-4376-9c52-1195526d6dc6",
   "metadata": {},
   "outputs": [],
   "source": [
    "n_forecast = 30\n",
    "start=len(train_df2)\n",
    "end=len(train_df2)+len(test_df2)-1\n",
    "predict2 = fitted_model2.get_prediction(start=start,end=end) #start=\"2021-10-29\",end=\"2021-11-27\")\n",
    "\n",
    "predictions2=predict2.predicted_mean"
   ]
  },
  {
   "cell_type": "code",
   "execution_count": 165,
   "id": "a162f2a2-29b2-4a09-be43-0ae7a405bb68",
   "metadata": {},
   "outputs": [],
   "source": [
    "predictions2.columns=['Energy GW predicted','S&P predicted']"
   ]
  },
  {
   "cell_type": "code",
   "execution_count": 166,
   "id": "2e9802fc-5513-4a0d-9fba-aec536443317",
   "metadata": {},
   "outputs": [],
   "source": [
    "predictions2.index=df_merged.index[start:end+1]\n",
    "#print(predictions)"
   ]
  },
  {
   "cell_type": "code",
   "execution_count": 167,
   "id": "d3063144-6351-4bb5-ae3a-cc454ad05c7e",
   "metadata": {},
   "outputs": [],
   "source": [
    "test_vs_pred2=pd.concat([test_df2['Energy GW'],predictions2['Energy GW predicted']],axis=1)"
   ]
  },
  {
   "cell_type": "code",
   "execution_count": 168,
   "id": "c7ee3e02-20bb-4366-9f60-1c7141ef4db2",
   "metadata": {},
   "outputs": [
    {
     "data": {
      "text/plain": [
       "Text(0.5, 1.0, 'Energy GW forecast using S&P 500 Index historical data')"
      ]
     },
     "execution_count": 168,
     "metadata": {},
     "output_type": "execute_result"
    },
    {
     "data": {
      "image/png": "[encoded data removed]",
      "text/plain": [
       "<Figure size 864x360 with 1 Axes>"
      ]
     },
     "metadata": {
      "needs_background": "light"
     },
     "output_type": "display_data"
    }
   ],
   "source": [
    "test_vs_pred2.plot(figsize=(12,5))\n",
    "plt.title('Energy GW forecast using S&P 500 Index historical data')"
   ]
  },
  {
   "cell_type": "code",
   "execution_count": 210,
   "id": "8bc6aacf-f598-4e0d-a675-41354c98ae01",
   "metadata": {},
   "outputs": [
    {
     "name": "stdout",
     "output_type": "stream",
     "text": [
      "Mean value of Energy GW is : 13.236316957554166. Root Mean Squared Error is :4.248153119254431\n"
     ]
    }
   ],
   "source": [
    "rmse_Energy_GW2=math.sqrt(mean_squared_error(predictions2['Energy GW predicted'],test_df2['Energy GW']))\n",
    "print('Mean value of Energy GW is : {}. Root Mean Squared Error is :{}'.format(mean(test_df2['Energy GW']),rmse_Energy_GW2))"
   ]
  },
  {
   "cell_type": "code",
   "execution_count": 114,
   "id": "a53fb919-84d5-4665-9cef-7ba1b3196589",
   "metadata": {},
   "outputs": [],
   "source": [
    "df_merged3 = df_merged[['Energy GW', 'Electricity Price NY']]"
   ]
  },
  {
   "cell_type": "code",
   "execution_count": 115,
   "id": "cbdbd661-3408-4969-b95e-5a2f47e7045b",
   "metadata": {},
   "outputs": [],
   "source": [
    "train_df3=df_merged3[:-30]\n",
    "test_df3=df_merged3[-30:]"
   ]
  },
  {
   "cell_type": "code",
   "execution_count": 116,
   "id": "7520e5db-0cf5-4aac-9120-155993b06841",
   "metadata": {},
   "outputs": [],
   "source": [
    "model3 = VAR(train_df3.diff()[1:])"
   ]
  },
  {
   "cell_type": "code",
   "execution_count": 183,
   "id": "13f9af80-69a7-47ba-b77f-850a30b53dfa",
   "metadata": {},
   "outputs": [
    {
     "name": "stdout",
     "output_type": "stream",
     "text": [
      " VAR Order Selection (* highlights the minimums)  \n",
      "==================================================\n",
      "       AIC         BIC         FPE         HQIC   \n",
      "--------------------------------------------------\n",
      "0        1.092       1.100       2.981       1.095\n",
      "1        1.016       1.039       2.761       1.024\n",
      "2       0.9352      0.9740       2.548      0.9498\n",
      "3       0.9034      0.9576       2.468      0.9237\n",
      "4       0.8702      0.9400       2.387      0.8964\n",
      "5       0.8596      0.9449       2.362      0.8916\n",
      "6       0.8400      0.9408       2.316      0.8777\n",
      "7       0.6712      0.7875       1.957      0.7147\n",
      "8       0.6377      0.7695       1.892      0.6871\n",
      "9       0.6331      0.7804       1.883      0.6883\n",
      "10      0.6322      0.7950       1.882      0.6931\n",
      "11      0.6292      0.8075       1.876      0.6960\n",
      "12      0.6282      0.8220       1.874      0.7008\n",
      "13      0.6312      0.8405       1.880      0.7096\n",
      "14      0.5301     0.7549*       1.699      0.6143\n",
      "15      0.5179      0.7582       1.679     0.6079*\n",
      "16      0.5199      0.7757       1.682      0.6157\n",
      "17     0.5178*      0.7891      1.678*      0.6194\n",
      "18      0.5214      0.8083       1.684      0.6289\n",
      "19      0.5228      0.8252       1.687      0.6361\n",
      "20      0.5235      0.8414       1.688      0.6426\n",
      "--------------------------------------------------\n"
     ]
    }
   ],
   "source": [
    "sorted_order3=model3.select_order(maxlags=20)\n",
    "print(sorted_order3.summary())\n",
    "#* shows where is the minimum parameter. The minimum AIC was found at lag number 17."
   ]
  },
  {
   "cell_type": "code",
   "execution_count": 186,
   "id": "d204d913-c8af-4036-b3e3-655b8ad31e57",
   "metadata": {},
   "outputs": [],
   "source": [
    "var_model3 = VARMAX(train_df3, order=(17,0),enforce_stationarity= True)"
   ]
  },
  {
   "cell_type": "code",
   "execution_count": 187,
   "id": "b3bd5062-49e8-414e-84fa-6ba9690e71a0",
   "metadata": {},
   "outputs": [],
   "source": [
    "fitted_model3 = var_model3.fit(disp=False)"
   ]
  },
  {
   "cell_type": "code",
   "execution_count": 121,
   "id": "16ff6bb9-bf0e-4214-8766-ce4b5939c7ca",
   "metadata": {},
   "outputs": [],
   "source": [
    "#print(fitted_model3.summary())"
   ]
  },
  {
   "cell_type": "code",
   "execution_count": 188,
   "id": "2cce1c03-dc8f-4c79-acf5-513408b6aff1",
   "metadata": {},
   "outputs": [],
   "source": [
    "n_forecast = 30\n",
    "start=len(train_df3)\n",
    "end=len(train_df3)+len(test_df3)-1\n",
    "predict3 = fitted_model3.get_prediction(start=start,end=end) #start=\"2021-10-29\",end=\"2021-11-27\")\n",
    "\n",
    "predictions3=predict3.predicted_mean"
   ]
  },
  {
   "cell_type": "code",
   "execution_count": 189,
   "id": "dd26757f-83a7-4f3a-b317-940333e97b0b",
   "metadata": {},
   "outputs": [],
   "source": [
    "predictions3.columns=['Energy GW predicted','Electricity Price NY predicted']"
   ]
  },
  {
   "cell_type": "code",
   "execution_count": 190,
   "id": "493c5d34-2eda-4694-ab0b-3fae651da64d",
   "metadata": {},
   "outputs": [],
   "source": [
    "predictions3.index=df_merged.index[start:end+1]\n",
    "#print(predictions)"
   ]
  },
  {
   "cell_type": "code",
   "execution_count": 191,
   "id": "aa2fae8d-0a0a-4be4-842e-c435c4ef94f2",
   "metadata": {},
   "outputs": [],
   "source": [
    "test_vs_pred3=pd.concat([test_df3['Energy GW'],predictions3['Energy GW predicted']],axis=1)"
   ]
  },
  {
   "cell_type": "code",
   "execution_count": 192,
   "id": "0a4cea2c-d2da-4d6a-9806-7226605a0900",
   "metadata": {},
   "outputs": [
    {
     "data": {
      "text/plain": [
       "Text(0.5, 1.0, 'Energy GW forecast using Electricity Price NY historical data')"
      ]
     },
     "execution_count": 192,
     "metadata": {},
     "output_type": "execute_result"
    },
    {
     "data": {
      "image/png": "[encoded data removed]",
      "text/plain": [
       "<Figure size 864x360 with 1 Axes>"
      ]
     },
     "metadata": {
      "needs_background": "light"
     },
     "output_type": "display_data"
    }
   ],
   "source": [
    "test_vs_pred3.plot(figsize=(12,5))\n",
    "plt.title('Energy GW forecast using Electricity Price NY historical data')"
   ]
  },
  {
   "cell_type": "code",
   "execution_count": 209,
   "id": "b513e2ed-955e-4e59-bece-ae917fc8ab11",
   "metadata": {},
   "outputs": [
    {
     "name": "stdout",
     "output_type": "stream",
     "text": [
      "Mean value of Energy GW is : 13.236316957554166. Root Mean Squared Error is :0.5323964710599027\n"
     ]
    }
   ],
   "source": [
    "rmse_Energy_GW3=math.sqrt(mean_squared_error(predictions3['Energy GW predicted'],test_df3['Energy GW']))\n",
    "print('Mean value of Energy GW is : {}. Root Mean Squared Error is :{}'.format(mean(test_df3['Energy GW']),rmse_Energy_GW3))"
   ]
  },
  {
   "cell_type": "code",
   "execution_count": null,
   "id": "09ce711b-9c49-40d1-8427-a3b08c847779",
   "metadata": {},
   "outputs": [],
   "source": []
  },
  {
   "cell_type": "code",
   "execution_count": 135,
   "id": "da57658c-0863-4ac2-994e-33d24a1a54d1",
   "metadata": {},
   "outputs": [],
   "source": [
    "df_merged4 = df_merged[['Energy GW', 'Fear Index']]"
   ]
  },
  {
   "cell_type": "code",
   "execution_count": 136,
   "id": "ab580f0e-b022-4bf0-be31-daa3ca83ed88",
   "metadata": {},
   "outputs": [],
   "source": [
    "train_df4=df_merged4[:-30]\n",
    "test_df4=df_merged4[-30:]"
   ]
  },
  {
   "cell_type": "code",
   "execution_count": 137,
   "id": "e129e5c1-e29a-4ab7-8630-9c213932fc89",
   "metadata": {},
   "outputs": [],
   "source": [
    "model4 = VAR(train_df4.diff()[1:])"
   ]
  },
  {
   "cell_type": "code",
   "execution_count": 138,
   "id": "784fbe68-56be-43ef-8ca5-bd42d018310d",
   "metadata": {},
   "outputs": [
    {
     "name": "stdout",
     "output_type": "stream",
     "text": [
      " VAR Order Selection (* highlights the minimums)  \n",
      "==================================================\n",
      "       AIC         BIC         FPE         HQIC   \n",
      "--------------------------------------------------\n",
      "0       0.1552      0.1629       1.168      0.1581\n",
      "1      0.05097     0.07423       1.052     0.05968\n",
      "2      0.02595     0.06472       1.026     0.04048\n",
      "3      0.02064     0.07491       1.021     0.04097\n",
      "4      0.01227     0.08204       1.012     0.03841\n",
      "5      0.01104     0.09632       1.011     0.04298\n",
      "6      0.01340      0.1142       1.013     0.05116\n",
      "7      -0.1545    -0.03820      0.8569     -0.1109\n",
      "8      -0.1792    -0.04738      0.8360     -0.1298\n",
      "9      -0.1788    -0.03149      0.8363     -0.1236\n",
      "10     -0.1755    -0.01269      0.8391     -0.1145\n",
      "11     -0.1719    0.006438      0.8421     -0.1051\n",
      "12     -0.1741     0.01970      0.8402     -0.1015\n",
      "13     -0.1707     0.03860      0.8431    -0.09231\n",
      "14     -0.2737   -0.04893*      0.7605     -0.1895\n",
      "15    -0.2812*    -0.04087     0.7549*    -0.1912*\n",
      "16     -0.2782    -0.02237      0.7572     -0.1824\n",
      "17     -0.2779   -0.006542      0.7574     -0.1762\n",
      "18     -0.2744     0.01247      0.7601     -0.1669\n",
      "19     -0.2706     0.03179      0.7630     -0.1573\n",
      "20     -0.2741     0.04370      0.7602     -0.1551\n",
      "--------------------------------------------------\n"
     ]
    }
   ],
   "source": [
    "sorted_order4=model4.select_order(maxlags=20)\n",
    "print(sorted_order4.summary())\n",
    "#* shows where is the minimum parameter. The minimum AIC was found at lag number 15."
   ]
  },
  {
   "cell_type": "code",
   "execution_count": 139,
   "id": "07ceb63b-7aff-46f6-8dce-1048f063990e",
   "metadata": {},
   "outputs": [],
   "source": [
    "var_model4 = VARMAX(train_df4, order=(15,0),enforce_stationarity= True)"
   ]
  },
  {
   "cell_type": "code",
   "execution_count": 140,
   "id": "c63c2fe5-46ff-4e9e-a50c-5d45723e4199",
   "metadata": {},
   "outputs": [],
   "source": [
    "fitted_model4 = var_model4.fit(disp=False)"
   ]
  },
  {
   "cell_type": "code",
   "execution_count": 173,
   "id": "070c650e-2aca-43b4-bd02-7b5ace8cfdf1",
   "metadata": {},
   "outputs": [],
   "source": [
    "#print(fitted_model4.summary())"
   ]
  },
  {
   "cell_type": "code",
   "execution_count": 142,
   "id": "a7151031-4158-43cf-89b2-d53e9b96517e",
   "metadata": {},
   "outputs": [],
   "source": [
    "n_forecast = 30\n",
    "start=len(train_df4)\n",
    "end=len(train_df4)+len(test_df4)-1\n",
    "predict4 = fitted_model4.get_prediction(start=start,end=end) #start=\"2021-10-29\",end=\"2021-11-27\")\n",
    "\n",
    "predictions4=predict4.predicted_mean"
   ]
  },
  {
   "cell_type": "code",
   "execution_count": 174,
   "id": "1dcaaaab-f28a-48ab-ba86-4a8561189893",
   "metadata": {},
   "outputs": [],
   "source": [
    "predictions4.columns=['Energy GW predicted','Fear Index predicted']"
   ]
  },
  {
   "cell_type": "code",
   "execution_count": 175,
   "id": "8518cc3a-0756-4e0d-b915-0a9543d8340e",
   "metadata": {},
   "outputs": [],
   "source": [
    "predictions4.index=df_merged.index[start:end+1]\n",
    "#print(predictions)"
   ]
  },
  {
   "cell_type": "code",
   "execution_count": 176,
   "id": "66b27654-c8ec-45a9-ad9f-685ab62e8879",
   "metadata": {},
   "outputs": [],
   "source": [
    "test_vs_pred4=pd.concat([test_df4['Energy GW'],predictions4['Energy GW predicted']],axis=1)"
   ]
  },
  {
   "cell_type": "code",
   "execution_count": 177,
   "id": "16d608e2-977c-4396-beb1-cebcb3c6a030",
   "metadata": {},
   "outputs": [
    {
     "data": {
      "text/plain": [
       "Text(0.5, 1.0, 'Energy GW forecast using Fear Index historical data')"
      ]
     },
     "execution_count": 177,
     "metadata": {},
     "output_type": "execute_result"
    },
    {
     "data": {
      "image/png": "[encoded data removed]",
      "text/plain": [
       "<Figure size 864x360 with 1 Axes>"
      ]
     },
     "metadata": {
      "needs_background": "light"
     },
     "output_type": "display_data"
    }
   ],
   "source": [
    "test_vs_pred4.plot(figsize=(12,5))\n",
    "plt.title('Energy GW forecast using Fear Index historical data')"
   ]
  },
  {
   "cell_type": "code",
   "execution_count": 213,
   "id": "65dae6d8-07f4-4c1f-a927-2db34be31607",
   "metadata": {},
   "outputs": [
    {
     "name": "stdout",
     "output_type": "stream",
     "text": [
      "Mean value of Energy GW is : 13.236316957554166. Root Mean Squared Error is :0.7027285651941763\n"
     ]
    }
   ],
   "source": [
    "rmse_Energy_GW4=math.sqrt(mean_squared_error(predictions4['Energy GW predicted'],test_df4['Energy GW']))\n",
    "print('Mean value of Energy GW is : {}. Root Mean Squared Error is :{}'.format(mean(test_df4['Energy GW']),rmse_Energy_GW4))"
   ]
  },
  {
   "cell_type": "code",
   "execution_count": 238,
   "id": "bb48f832-015d-4d97-b926-ec2703ce650a",
   "metadata": {},
   "outputs": [],
   "source": [
    "df_merged5 = df_merged[['Energy GW', 'Electricity Price NY', 'Fear Index']]"
   ]
  },
  {
   "cell_type": "code",
   "execution_count": 222,
   "id": "a427ceb4-09a3-4358-9f00-f8b7774f6f96",
   "metadata": {},
   "outputs": [],
   "source": [
    "train_df5=df_merged5[:-30]\n",
    "test_df5=df_merged5[-30:]"
   ]
  },
  {
   "cell_type": "code",
   "execution_count": 223,
   "id": "beb048fd-80b5-4cf7-8f8b-3faced7531eb",
   "metadata": {},
   "outputs": [],
   "source": [
    "model5 = VAR(train_df5.diff()[1:])"
   ]
  },
  {
   "cell_type": "code",
   "execution_count": 224,
   "id": "0ed53c92-6104-42ca-acb8-a2a2b9216ddc",
   "metadata": {},
   "outputs": [
    {
     "name": "stdout",
     "output_type": "stream",
     "text": [
      " VAR Order Selection (* highlights the minimums)  \n",
      "==================================================\n",
      "       AIC         BIC         FPE         HQIC   \n",
      "--------------------------------------------------\n",
      "0        5.020       5.031       151.4       5.024\n",
      "1        4.895       4.942       133.7       4.913\n",
      "2        4.814       4.895       123.2       4.844\n",
      "3        4.788       4.904       120.0       4.831\n",
      "4        4.758       4.909       116.5       4.815\n",
      "5        4.746       4.932       115.2       4.816\n",
      "6        4.733       4.954       113.7       4.816\n",
      "7        4.561      4.817*       95.70       4.657\n",
      "8        4.528       4.819       92.60       4.637\n",
      "9        4.529       4.855       92.69       4.651\n",
      "10       4.533       4.893       93.03       4.668\n",
      "11       4.535       4.930       93.21       4.683\n",
      "12       4.529       4.960       92.70       4.691\n",
      "13       4.536       5.001       93.35       4.711\n",
      "14       4.438       4.938       84.57      4.625*\n",
      "15      4.428*       4.963      83.75*       4.628\n",
      "16       4.431       5.001       84.03       4.645\n",
      "17       4.433       5.038       84.21       4.660\n",
      "18       4.436       5.076       84.48       4.676\n",
      "19       4.444       5.118       85.10       4.696\n",
      "20       4.445       5.154       85.21       4.711\n",
      "--------------------------------------------------\n"
     ]
    }
   ],
   "source": [
    "sorted_order5=model5.select_order(maxlags=20)\n",
    "print(sorted_order5.summary())\n",
    "#* shows where is the minimum parameter. The minimum BIC was found at lag number 7."
   ]
  },
  {
   "cell_type": "code",
   "execution_count": 225,
   "id": "59ea5e7b-2947-45b0-9f36-4a99dbfbdf5c",
   "metadata": {},
   "outputs": [],
   "source": [
    "var_model5 = VARMAX(train_df5, order=(7,0),enforce_stationarity= True)"
   ]
  },
  {
   "cell_type": "code",
   "execution_count": 226,
   "id": "42c5f878-c5b3-41f3-a1fd-241ff1ec6ed6",
   "metadata": {},
   "outputs": [],
   "source": [
    "fitted_model5 = var_model5.fit(disp=False)"
   ]
  },
  {
   "cell_type": "code",
   "execution_count": 227,
   "id": "bece3ff5-839e-4d20-9ee4-19c000642d5d",
   "metadata": {},
   "outputs": [],
   "source": [
    "#print(fitted_model5.summary())"
   ]
  },
  {
   "cell_type": "code",
   "execution_count": 273,
   "id": "8c23a708-6648-43f8-8e8e-4e23ea6a896a",
   "metadata": {},
   "outputs": [],
   "source": [
    "n_forecast = 30\n",
    "start=len(train_df5)\n",
    "end=len(train_df5)+len(test_df5)-1\n",
    "predict5 = fitted_model5.get_prediction(start=start,end=end) #start=\"2021-10-29\",end=\"2021-11-27\")\n",
    "\n",
    "predictions5=predict5.predicted_mean"
   ]
  },
  {
   "cell_type": "code",
   "execution_count": 274,
   "id": "2282f6f2-42f7-4d3c-a6b7-121cf1133a9b",
   "metadata": {},
   "outputs": [],
   "source": [
    "predictions5.columns=['Energy GW predicted','Electricity Price NY predicted', 'Fear Index predicted']"
   ]
  },
  {
   "cell_type": "code",
   "execution_count": 275,
   "id": "af58089c-7b3e-4fb2-89c7-af164dfd508f",
   "metadata": {},
   "outputs": [],
   "source": [
    "predictions5.index=df_merged.index[start:end+1]\n",
    "#print(predictions)"
   ]
  },
  {
   "cell_type": "code",
   "execution_count": 232,
   "id": "e71f499e-e54f-4c54-9a5b-435cb7f01771",
   "metadata": {},
   "outputs": [],
   "source": [
    "test_vs_pred5=pd.concat([test_df5['Energy GW'],predictions['Energy GW predicted']],axis=1)"
   ]
  },
  {
   "cell_type": "code",
   "execution_count": 233,
   "id": "2e58b6fc-0672-4cd0-b98c-a33f118ba7f1",
   "metadata": {},
   "outputs": [
    {
     "data": {
      "text/plain": [
       "Text(0.5, 1.0, 'Energy GW forecast using Electricity Price NY and Fear Index historical data')"
      ]
     },
     "execution_count": 233,
     "metadata": {},
     "output_type": "execute_result"
    },
    {
     "data": {
      "image/png": "[encoded data removed]",
      "text/plain": [
       "<Figure size 864x360 with 1 Axes>"
      ]
     },
     "metadata": {
      "needs_background": "light"
     },
     "output_type": "display_data"
    }
   ],
   "source": [
    "test_vs_pred5.plot(figsize=(12,5))\n",
    "plt.title('Energy GW forecast using Electricity Price NY and Fear Index historical data')"
   ]
  },
  {
   "cell_type": "code",
   "execution_count": 234,
   "id": "76a0c513-5334-4cb8-9f7d-a24515593eed",
   "metadata": {},
   "outputs": [
    {
     "name": "stdout",
     "output_type": "stream",
     "text": [
      "Mean value of Energy GW is : 13.236316957554166. Root Mean Squared Error is :0.2911503424472609\n"
     ]
    }
   ],
   "source": [
    "rmse_Energy_GW5=math.sqrt(mean_squared_error(predictions5['Energy GW predicted'],test_df5['Energy GW']))\n",
    "print('Mean value of Energy GW is : {}. Root Mean Squared Error is :{}'.format(mean(test_df5['Energy GW']),rmse_Energy_GW5))"
   ]
  },
  {
   "cell_type": "code",
   "execution_count": 302,
   "id": "d1a82e97-3a74-4a66-b42c-bf3b6ff985c3",
   "metadata": {},
   "outputs": [],
   "source": [
    "n_forecast = 30\n",
    "start=len(df_merged5)\n",
    "end=len(df_merged5)+30-1\n",
    "predict5_future = fitted_model5.get_prediction(start=start,end=end) #start=\"2021-11-28\",end=\"2021-12-27\")\n",
    "\n",
    "predictions5_future=predict5_future.predicted_mean"
   ]
  },
  {
   "cell_type": "code",
   "execution_count": 303,
   "id": "e9f0603a-6593-4aa2-8e0d-59e6bdef7a5f",
   "metadata": {},
   "outputs": [],
   "source": [
    "predictions5_future.columns=['Energy GW predicted','Electricity Price NY predicted', 'Fear Index predicted']"
   ]
  },
  {
   "cell_type": "code",
   "execution_count": 304,
   "id": "3d07fbbe-d828-438d-8c1b-4ca318bada20",
   "metadata": {},
   "outputs": [],
   "source": [
    "#predictions5_future.index=df_merged.index[start:end+30+1]\n",
    "#print(predictions)\n",
    "index_future_dates=pd.date_range(start='2021-11-28',end='2021-12-27')"
   ]
  },
  {
   "cell_type": "code",
   "execution_count": 305,
   "id": "f8abf9a8-6b40-4b11-ac27-37405eeb8017",
   "metadata": {},
   "outputs": [
    {
     "name": "stdout",
     "output_type": "stream",
     "text": [
      "            Energy GW predicted  Electricity Price NY predicted  \\\n",
      "2021-11-28            12.942495                       37.056097   \n",
      "2021-11-29            12.923697                       36.936046   \n",
      "2021-11-30            12.904455                       36.824908   \n",
      "2021-12-01            12.884801                       36.721948   \n",
      "2021-12-02            12.864765                       36.626364   \n",
      "2021-12-03            12.844376                       36.537483   \n",
      "2021-12-04            12.823660                       36.454752   \n",
      "2021-12-05            12.802642                       36.377663   \n",
      "2021-12-06            12.781345                       36.305754   \n",
      "2021-12-07            12.759791                       36.238613   \n",
      "2021-12-08            12.738000                       36.175856   \n",
      "2021-12-09            12.715991                       36.117105   \n",
      "2021-12-10            12.693783                       36.062014   \n",
      "2021-12-11            12.671392                       36.010268   \n",
      "2021-12-12            12.648835                       35.961584   \n",
      "2021-12-13            12.626126                       35.915700   \n",
      "2021-12-14            12.603278                       35.872378   \n",
      "2021-12-15            12.580307                       35.831401   \n",
      "2021-12-16            12.557223                       35.792567   \n",
      "2021-12-17            12.534039                       35.755690   \n",
      "2021-12-18            12.510765                       35.720598   \n",
      "2021-12-19            12.487413                       35.687136   \n",
      "2021-12-20            12.463991                       35.655160   \n",
      "2021-12-21            12.440510                       35.624539   \n",
      "2021-12-22            12.416977                       35.595155   \n",
      "2021-12-23            12.393402                       35.566897   \n",
      "2021-12-24            12.369792                       35.539664   \n",
      "2021-12-25            12.346154                       35.513364   \n",
      "2021-12-26            12.322496                       35.487913   \n",
      "2021-12-27            12.298824                       35.463234   \n",
      "\n",
      "            Fear Index predicted  \n",
      "2021-11-28             58.302760  \n",
      "2021-11-29             58.050570  \n",
      "2021-11-30             57.803958  \n",
      "2021-12-01             57.562894  \n",
      "2021-12-02             57.327313  \n",
      "2021-12-03             57.097109  \n",
      "2021-12-04             56.872206  \n",
      "2021-12-05             56.652532  \n",
      "2021-12-06             56.437994  \n",
      "2021-12-07             56.228494  \n",
      "2021-12-08             56.023939  \n",
      "2021-12-09             55.824238  \n",
      "2021-12-10             55.629293  \n",
      "2021-12-11             55.439008  \n",
      "2021-12-12             55.253288  \n",
      "2021-12-13             55.072036  \n",
      "2021-12-14             54.895156  \n",
      "2021-12-15             54.722552  \n",
      "2021-12-16             54.554128  \n",
      "2021-12-17             54.389789  \n",
      "2021-12-18             54.229441  \n",
      "2021-12-19             54.072992  \n",
      "2021-12-20             53.920350  \n",
      "2021-12-21             53.771423  \n",
      "2021-12-22             53.626123  \n",
      "2021-12-23             53.484361  \n",
      "2021-12-24             53.346050  \n",
      "2021-12-25             53.211106  \n",
      "2021-12-26             53.079445  \n",
      "2021-12-27             52.950984  \n"
     ]
    }
   ],
   "source": [
    "predictions5_future.index=index_future_dates\n",
    "print(predictions5_future)"
   ]
  },
  {
   "cell_type": "code",
   "execution_count": 306,
   "id": "9c60679e-0ead-4650-a537-d12b9db1c62a",
   "metadata": {},
   "outputs": [
    {
     "data": {
      "text/plain": [
       "Text(0.5, 1.0, 'Energy GW forecast using Electricity Price NY and Fear Index historical data')"
      ]
     },
     "execution_count": 306,
     "metadata": {},
     "output_type": "execute_result"
    },
    {
     "data": {
      "image/png": "[encoded data removed]",
      "text/plain": [
       "<Figure size 864x360 with 1 Axes>"
      ]
     },
     "metadata": {
      "needs_background": "light"
     },
     "output_type": "display_data"
    }
   ],
   "source": [
    "predictions5_future['Energy GW predicted'].plot(figsize=(12,5))\n",
    "plt.title('Energy GW forecast using Electricity Price NY and Fear Index historical data')"
   ]
  },
  {
   "cell_type": "code",
   "execution_count": null,
   "id": "52161d1d-bb66-4b02-94d5-9676c4376c57",
   "metadata": {},
   "outputs": [],
   "source": []
  },
  {
   "cell_type": "code",
   "execution_count": null,
   "id": "b851a5c4-80c0-40f3-baa5-e2306ddef8af",
   "metadata": {},
   "outputs": [],
   "source": []
  },
  {
   "cell_type": "code",
   "execution_count": null,
   "id": "c93aa15e-b5b3-4ba3-9b8b-a95482828b6e",
   "metadata": {},
   "outputs": [],
   "source": []
  },
  {
   "cell_type": "code",
   "execution_count": 239,
   "id": "2fe83e57-eb13-45b1-b9f0-5329422ea2ab",
   "metadata": {},
   "outputs": [],
   "source": [
    "df_merged6 = df_merged[['Energy GW','Electricity Price NY', 'Fear Index', 'BTC Price', 'S&P']]"
   ]
  },
  {
   "cell_type": "code",
   "execution_count": 240,
   "id": "5a94f6f5-4a90-4a04-bcd9-4d259336ced0",
   "metadata": {},
   "outputs": [],
   "source": [
    "train_df6=df_merged6[:-30]\n",
    "test_df6=df_merged6[-30:]"
   ]
  },
  {
   "cell_type": "code",
   "execution_count": 241,
   "id": "5c74bbdf-fb15-4b2b-948b-98fdbe81fe54",
   "metadata": {},
   "outputs": [],
   "source": [
    "model6 = VAR(train_df6.diff()[1:])"
   ]
  },
  {
   "cell_type": "code",
   "execution_count": 242,
   "id": "82934486-82db-45cb-9346-ab6f73ae5098",
   "metadata": {},
   "outputs": [
    {
     "name": "stdout",
     "output_type": "stream",
     "text": [
      " VAR Order Selection (* highlights the minimums)  \n",
      "==================================================\n",
      "       AIC         BIC         FPE         HQIC   \n",
      "--------------------------------------------------\n",
      "0        25.52       25.54   1.209e+11       25.53\n",
      "1        25.12      25.24*   8.127e+10       25.16\n",
      "2        25.03       25.24   7.390e+10       25.11\n",
      "3        25.01       25.32   7.287e+10       25.13\n",
      "4        24.99       25.40   7.123e+10       25.14\n",
      "5        24.99       25.49   7.098e+10       25.17\n",
      "6        24.98       25.58   7.077e+10       25.21\n",
      "7        24.81       25.51   5.961e+10       25.07\n",
      "8        24.76       25.56   5.687e+10      25.06*\n",
      "9        24.77       25.66   5.703e+10       25.10\n",
      "10       24.77       25.76   5.731e+10       25.14\n",
      "11       24.76       25.85   5.690e+10       25.17\n",
      "12       24.77       25.95   5.725e+10       25.21\n",
      "13       24.78       26.06   5.776e+10       25.26\n",
      "14       24.70       26.07   5.326e+10       25.21\n",
      "15      24.70*       26.17  5.321e+10*       25.25\n",
      "16       24.71       26.28   5.391e+10       25.30\n",
      "17       24.71       26.37   5.383e+10       25.33\n",
      "18       24.72       26.49   5.458e+10       25.38\n",
      "19       24.73       26.59   5.498e+10       25.43\n",
      "20       24.73       26.69   5.499e+10       25.46\n",
      "--------------------------------------------------\n"
     ]
    }
   ],
   "source": [
    "sorted_order6=model6.select_order(maxlags=20)\n",
    "print(sorted_order6.summary())\n",
    "#* shows where is the minimum parameter. The minimum AIC was found at lag number 15."
   ]
  },
  {
   "cell_type": "code",
   "execution_count": 254,
   "id": "446a4dd1-5704-49f8-92a0-1b574b653bd2",
   "metadata": {},
   "outputs": [],
   "source": [
    "var_model6 = VARMAX(train_df6, order=(15,0),enforce_stationarity= True)"
   ]
  },
  {
   "cell_type": "code",
   "execution_count": 255,
   "id": "0154a638-ff94-4cca-9844-1d19083a981a",
   "metadata": {},
   "outputs": [],
   "source": [
    "fitted_model6 = var_model6.fit(disp=False)"
   ]
  },
  {
   "cell_type": "code",
   "execution_count": 253,
   "id": "2dd972b2-2476-40b1-b994-0abccd537e79",
   "metadata": {},
   "outputs": [],
   "source": [
    "#print(fitted_model6.summary())"
   ]
  },
  {
   "cell_type": "code",
   "execution_count": 256,
   "id": "10b3e89a-bfe9-4dad-92fb-fc5cae914a5d",
   "metadata": {},
   "outputs": [],
   "source": [
    "n_forecast = 30\n",
    "start=len(train_df6)\n",
    "end=len(train_df6)+len(test_df6)-1\n",
    "predict6 = fitted_model6.get_prediction(start=start,end=end) #start=\"2021-10-29\",end=\"2021-11-27\")\n",
    "\n",
    "predictions6=predict6.predicted_mean"
   ]
  },
  {
   "cell_type": "code",
   "execution_count": 257,
   "id": "0396f778-e103-446d-a28a-1294fec65e2a",
   "metadata": {},
   "outputs": [],
   "source": [
    "predictions6.columns=['Energy GW predicted','Electricity Price NY predicted', 'Fear Index predicted', 'BTC Price predicted', 'S&P predicted']"
   ]
  },
  {
   "cell_type": "code",
   "execution_count": 258,
   "id": "5e42daa8-f03a-439e-8b3c-419cb16330c7",
   "metadata": {},
   "outputs": [],
   "source": [
    "predictions6.index=df_merged.index[start:end+1]\n",
    "#print(predictions)"
   ]
  },
  {
   "cell_type": "code",
   "execution_count": 259,
   "id": "755ac62a-43af-4e36-94f7-0c6cd2ec6a65",
   "metadata": {},
   "outputs": [],
   "source": [
    "test_vs_pred6=pd.concat([test_df6['Energy GW'],predictions6['Energy GW predicted']],axis=1)"
   ]
  },
  {
   "cell_type": "code",
   "execution_count": 260,
   "id": "7dead064-49cb-41ba-accb-41a6737d1f02",
   "metadata": {},
   "outputs": [
    {
     "data": {
      "text/plain": [
       "Text(0.5, 1.0, 'Energy GW forecast using Electricity Price NY, Fear Index, BTC Price, and S&P 500 Index historical data')"
      ]
     },
     "execution_count": 260,
     "metadata": {},
     "output_type": "execute_result"
    },
    {
     "data": {
      "image/png": "[encoded data removed]",
      "text/plain": [
       "<Figure size 864x360 with 1 Axes>"
      ]
     },
     "metadata": {
      "needs_background": "light"
     },
     "output_type": "display_data"
    }
   ],
   "source": [
    "test_vs_pred6.plot(figsize=(12,5))\n",
    "plt.title('Energy GW forecast using Electricity Price NY, Fear Index, BTC Price, and S&P 500 Index historical data')"
   ]
  },
  {
   "cell_type": "code",
   "execution_count": null,
   "id": "076b8d30-e8b7-44ea-9f2f-0cbebd55b983",
   "metadata": {},
   "outputs": [],
   "source": []
  }
 ],
 "metadata": {
  "kernelspec": {
   "display_name": "Python 3",
   "language": "python",
   "name": "python3"
  },
  "language_info": {
   "codemirror_mode": {
    "name": "ipython",
    "version": 3
   },
   "file_extension": ".py",
   "mimetype": "text/x-python",
   "name": "python",
   "nbconvert_exporter": "python",
   "pygments_lexer": "ipython3",
   "version": "3.8.8"
  }
 },
 "nbformat": 4,
 "nbformat_minor": 5
}
