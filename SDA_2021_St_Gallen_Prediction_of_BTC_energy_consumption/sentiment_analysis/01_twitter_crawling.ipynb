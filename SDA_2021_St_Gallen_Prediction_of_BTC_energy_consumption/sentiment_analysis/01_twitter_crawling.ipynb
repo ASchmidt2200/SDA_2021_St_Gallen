{
 "cells": [
  {
   "cell_type": "code",
   "execution_count": null,
   "metadata": {},
   "outputs": [],
   "source": [
    "import tweepy # 3.10 - THERE IS A NEW TWEEPY VERSION! --> many changes etc.\n",
    "from textblob import TextBlob\n",
    "import csv\n",
    "import time\n",
    "import os"
   ]
  },
  {
   "cell_type": "code",
   "execution_count": null,
   "metadata": {},
   "outputs": [],
   "source": [
    "'''\n",
    "    enter your own tokens and keys,\n",
    "    we had to replace them because of privacy concerns\n",
    "'''\n",
    "\n",
    "consumer_key = ''\n",
    "consumer_secret = ''\n",
    "\n",
    "access_token=''\n",
    "access_token_secret=''\n",
    "\n",
    "auth = tweepy.OAuthHandler(consumer_key,consumer_secret)\n",
    "auth.set_access_token(access_token,access_token_secret)\n",
    "\n",
    "api = tweepy.API(auth)\n",
    "\n",
    "counter = 0\n",
    "\n",
    "try:\n",
    "    os.remove('result.csv')\n",
    "    #print \"File deleted\"\n",
    "except:\n",
    "    #print \"File was not present already\"\n",
    "    pass\n",
    "\n",
    "csvFile = open('result.csv', 'w')\n",
    "\n",
    "#Use csv writer\n",
    "csvWriter = csv.writer(csvFile)\n",
    "#Query(q) ---> AND (surge OR crash OR plunge OR high OR low OR future OR amazing OR good OR bad OR record)\n",
    "data = tweepy.Cursor(api.search_tweets, q = \"bitcoin\", since = \"2018-01-01\", until = \"2021-11-15\", lang = \"en\").items()\n",
    "#most recent data is fetched first\n",
    "\n",
    "while True:\n",
    "    try:\n",
    "        tweet = data.next()\n",
    "        if tweet.user.followers_count > 0: #collecting tweets made by users with min 100k followers\n",
    "            #i+=1\n",
    "            # Write a row to the CSV file. I use encode UTF-8\n",
    "            csvWriter.writerow([tweet.user.name.encode('utf-8', errors='ignore'),tweet.user.followers_count,tweet.created_at, tweet.text.encode('utf-8', errors='ignore'),tweet.id])\n",
    "            #print(\"------wrote a tweet-----\")\n",
    "            \"\"\"\n",
    "    except tweepy.TweepError:\n",
    "        #print(\"---------------------In sleep In sleep In sleep In sleep----------------------------\")\n",
    "        time.sleep(600)\n",
    "        continue\n",
    "        \"\"\"\n",
    "    except StopIteration:\n",
    "        #print(\"---------------------Something is wrong----------------------------\")\n",
    "        break\n",
    "\n",
    "\n",
    "csvFile.close()"
   ]
  }
 ],
 "metadata": {
  "interpreter": {
   "hash": "f76df37ae6e42dd66b1eddb68bd450971d2b35fb7972cd5a6fba62dc5fde5574"
  },
  "kernelspec": {
   "display_name": "Python 3.8.5 64-bit ('base': conda)",
   "language": "python",
   "name": "python3"
  },
  "language_info": {
   "codemirror_mode": {
    "name": "ipython",
    "version": 3
   },
   "file_extension": ".py",
   "mimetype": "text/x-python",
   "name": "python",
   "nbconvert_exporter": "python",
   "pygments_lexer": "ipython3",
   "version": "3.8.5"
  },
  "orig_nbformat": 4
 },
 "nbformat": 4,
 "nbformat_minor": 2
}
